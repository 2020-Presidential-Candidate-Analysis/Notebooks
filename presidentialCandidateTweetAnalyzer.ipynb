{
 "cells": [
  {
   "cell_type": "markdown",
   "metadata": {},
   "source": [
    "## Notebook Goals"
   ]
  },
  {
   "cell_type": "markdown",
   "metadata": {},
   "source": [
    "The goal of this notebook is to connect to the twitter API and do some basic NLP analysis on the U.S. presidential candidates mentioned in the table below."
   ]
  },
  {
   "cell_type": "markdown",
   "metadata": {},
   "source": [
    "## Candidate List"
   ]
  },
  {
   "cell_type": "markdown",
   "metadata": {},
   "source": [
    "| **Republican**  |**Twitter Handle** |\n",
    "|:--------------- |:----------------- |\n",
    "|Donald Trump     |@realDonaldTrump   |\n",
    "\n",
    "\n",
    "\n",
    "| **Democrat**    |**Twitter Handle** |\n",
    "|:--------------- |:----------------- |\n",
    "|Joe Biden        |@JoeBiden          |\n",
    "|Elizabeth Warren |@ewarren           |\n",
    "|Bernie Sanders   |@BernieSanders     |\n",
    "|Pete Buttigieg   |@PeteButtigieg     |\n",
    "|Tulsi Gabbard    |@TulsiGabbard      |\n",
    "|Amy Klobuchar    |@amyklobuchar      |\n",
    "|Andrew Yang      |@AndrewYang        |\n",
    "|Corey Booker     |@CoreyBooker       |\n",
    "|Michael Bloomberg|@MikeBloomberg     |\n",
    "|Tom Steyer       |@TomSteyer         |\n"
   ]
  },
  {
   "cell_type": "markdown",
   "metadata": {},
   "source": [
    "### Twitter Dev Information\n"
   ]
  },
  {
   "cell_type": "code",
   "execution_count": 1,
   "metadata": {},
   "outputs": [],
   "source": [
    "# Local file contains twitter API Keys\n",
    "import config"
   ]
  },
  {
   "cell_type": "code",
   "execution_count": 2,
   "metadata": {},
   "outputs": [],
   "source": [
    "import tweepy\n",
    "from textblob import TextBlob \n",
    "import re\n",
    "import numpy as np\n",
    "import pandas as pd\n",
    "import datetime"
   ]
  },
  {
   "cell_type": "code",
   "execution_count": 3,
   "metadata": {},
   "outputs": [],
   "source": [
    "TWITTER_AUTH = tweepy.OAuthHandler(config.TWITTER_CONSUMER_KEY,\n",
    "                                   config.TWITTER_CONSUMER_SECRET)\n",
    "TWITTER_AUTH.set_access_token(config.TWITTER_ACCESS_TOKEN,\n",
    "                              config.TWITTER_ACCESS_TOKEN_SECRET)"
   ]
  },
  {
   "cell_type": "code",
   "execution_count": 4,
   "metadata": {},
   "outputs": [],
   "source": [
    "TWITTER = tweepy.API(TWITTER_AUTH)"
   ]
  },
  {
   "cell_type": "code",
   "execution_count": 10,
   "metadata": {},
   "outputs": [],
   "source": [
    "donaldTrump = TWITTER.get_user('realDonaldTrump')\n",
    "joeBiden = TWITTER.get_user('JoeBiden')\n",
    "elizabethWarren =  TWITTER.get_user('ewarren')\n",
    "bernieSanders = TWITTER.get_user('BernieSanders')\n"
   ]
  },
  {
   "cell_type": "code",
   "execution_count": 11,
   "metadata": {},
   "outputs": [
    {
     "data": {
      "text/plain": [
       "User(_api=<tweepy.api.API object at 0x1a17deb710>, _json={'id': 25073877, 'id_str': '25073877', 'name': 'Donald J. Trump', 'screen_name': 'realDonaldTrump', 'location': 'Washington, DC', 'profile_location': None, 'description': '45th President of the United States of America🇺🇸', 'url': 'https://t.co/OMxB0x7xC5', 'entities': {'url': {'urls': [{'url': 'https://t.co/OMxB0x7xC5', 'expanded_url': 'http://www.Instagram.com/realDonaldTrump', 'display_url': 'Instagram.com/realDonaldTrump', 'indices': [0, 23]}]}, 'description': {'urls': []}}, 'protected': False, 'followers_count': 67304350, 'friends_count': 47, 'listed_count': 111078, 'created_at': 'Wed Mar 18 13:46:38 +0000 2009', 'favourites_count': 7, 'utc_offset': None, 'time_zone': None, 'geo_enabled': True, 'verified': True, 'statuses_count': 46679, 'lang': None, 'status': {'created_at': 'Sat Dec 07 00:28:48 +0000 2019', 'id': 1203109065070665728, 'id_str': '1203109065070665728', 'text': 'Why is the World Bank loaning money to China? Can this be possible? China has plenty of money, and if they don’t, they create it. STOP!', 'truncated': False, 'entities': {'hashtags': [], 'symbols': [], 'user_mentions': [], 'urls': []}, 'source': '<a href=\"http://twitter.com/download/iphone\" rel=\"nofollow\">Twitter for iPhone</a>', 'in_reply_to_status_id': None, 'in_reply_to_status_id_str': None, 'in_reply_to_user_id': None, 'in_reply_to_user_id_str': None, 'in_reply_to_screen_name': None, 'geo': None, 'coordinates': None, 'place': None, 'contributors': None, 'is_quote_status': False, 'retweet_count': 6544, 'favorite_count': 20844, 'favorited': False, 'retweeted': False, 'lang': 'en'}, 'contributors_enabled': False, 'is_translator': False, 'is_translation_enabled': True, 'profile_background_color': '6D5C18', 'profile_background_image_url': 'http://abs.twimg.com/images/themes/theme1/bg.png', 'profile_background_image_url_https': 'https://abs.twimg.com/images/themes/theme1/bg.png', 'profile_background_tile': True, 'profile_image_url': 'http://pbs.twimg.com/profile_images/874276197357596672/kUuht00m_normal.jpg', 'profile_image_url_https': 'https://pbs.twimg.com/profile_images/874276197357596672/kUuht00m_normal.jpg', 'profile_banner_url': 'https://pbs.twimg.com/profile_banners/25073877/1560920145', 'profile_link_color': '1B95E0', 'profile_sidebar_border_color': 'BDDCAD', 'profile_sidebar_fill_color': 'C5CEC0', 'profile_text_color': '333333', 'profile_use_background_image': True, 'has_extended_profile': False, 'default_profile': False, 'default_profile_image': False, 'can_media_tag': False, 'followed_by': False, 'following': False, 'follow_request_sent': False, 'notifications': False, 'translator_type': 'regular'}, id=25073877, id_str='25073877', name='Donald J. Trump', screen_name='realDonaldTrump', location='Washington, DC', profile_location=None, description='45th President of the United States of America🇺🇸', url='https://t.co/OMxB0x7xC5', entities={'url': {'urls': [{'url': 'https://t.co/OMxB0x7xC5', 'expanded_url': 'http://www.Instagram.com/realDonaldTrump', 'display_url': 'Instagram.com/realDonaldTrump', 'indices': [0, 23]}]}, 'description': {'urls': []}}, protected=False, followers_count=67304350, friends_count=47, listed_count=111078, created_at=datetime.datetime(2009, 3, 18, 13, 46, 38), favourites_count=7, utc_offset=None, time_zone=None, geo_enabled=True, verified=True, statuses_count=46679, lang=None, status=Status(_api=<tweepy.api.API object at 0x1a17deb710>, _json={'created_at': 'Sat Dec 07 00:28:48 +0000 2019', 'id': 1203109065070665728, 'id_str': '1203109065070665728', 'text': 'Why is the World Bank loaning money to China? Can this be possible? China has plenty of money, and if they don’t, they create it. STOP!', 'truncated': False, 'entities': {'hashtags': [], 'symbols': [], 'user_mentions': [], 'urls': []}, 'source': '<a href=\"http://twitter.com/download/iphone\" rel=\"nofollow\">Twitter for iPhone</a>', 'in_reply_to_status_id': None, 'in_reply_to_status_id_str': None, 'in_reply_to_user_id': None, 'in_reply_to_user_id_str': None, 'in_reply_to_screen_name': None, 'geo': None, 'coordinates': None, 'place': None, 'contributors': None, 'is_quote_status': False, 'retweet_count': 6544, 'favorite_count': 20844, 'favorited': False, 'retweeted': False, 'lang': 'en'}, created_at=datetime.datetime(2019, 12, 7, 0, 28, 48), id=1203109065070665728, id_str='1203109065070665728', text='Why is the World Bank loaning money to China? Can this be possible? China has plenty of money, and if they don’t, they create it. STOP!', truncated=False, entities={'hashtags': [], 'symbols': [], 'user_mentions': [], 'urls': []}, source='Twitter for iPhone', source_url='http://twitter.com/download/iphone', in_reply_to_status_id=None, in_reply_to_status_id_str=None, in_reply_to_user_id=None, in_reply_to_user_id_str=None, in_reply_to_screen_name=None, geo=None, coordinates=None, place=None, contributors=None, is_quote_status=False, retweet_count=6544, favorite_count=20844, favorited=False, retweeted=False, lang='en'), contributors_enabled=False, is_translator=False, is_translation_enabled=True, profile_background_color='6D5C18', profile_background_image_url='http://abs.twimg.com/images/themes/theme1/bg.png', profile_background_image_url_https='https://abs.twimg.com/images/themes/theme1/bg.png', profile_background_tile=True, profile_image_url='http://pbs.twimg.com/profile_images/874276197357596672/kUuht00m_normal.jpg', profile_image_url_https='https://pbs.twimg.com/profile_images/874276197357596672/kUuht00m_normal.jpg', profile_banner_url='https://pbs.twimg.com/profile_banners/25073877/1560920145', profile_link_color='1B95E0', profile_sidebar_border_color='BDDCAD', profile_sidebar_fill_color='C5CEC0', profile_text_color='333333', profile_use_background_image=True, has_extended_profile=False, default_profile=False, default_profile_image=False, can_media_tag=False, followed_by=False, following=False, follow_request_sent=False, notifications=False, translator_type='regular')"
      ]
     },
     "execution_count": 11,
     "metadata": {},
     "output_type": "execute_result"
    }
   ],
   "source": [
    "donaldTrump"
   ]
  },
  {
   "cell_type": "code",
   "execution_count": 32,
   "metadata": {},
   "outputs": [],
   "source": [
    "warrenTweets = elizabethWarren.timeline(\n",
    "      count=250, exclude_replies=True, include_rts=False,\n",
    "      tweet_mode='extended')"
   ]
  },
  {
   "cell_type": "code",
   "execution_count": 33,
   "metadata": {},
   "outputs": [
    {
     "data": {
      "text/plain": [
       "'I knew Mark Zandi was skeptical, so I had him check the numbers on my plan to pay for #MedicareForAll. He confirmed they add up. https://t.co/drGc6eGNCD'"
      ]
     },
     "execution_count": 33,
     "metadata": {},
     "output_type": "execute_result"
    }
   ],
   "source": [
    "warrenTweets[86].full_text"
   ]
  },
  {
   "cell_type": "code",
   "execution_count": null,
   "metadata": {},
   "outputs": [],
   "source": []
  },
  {
   "cell_type": "markdown",
   "metadata": {},
   "source": [
    "## Taken from Geeks for Geeks"
   ]
  },
  {
   "cell_type": "code",
   "execution_count": 5,
   "metadata": {},
   "outputs": [],
   "source": [
    "class TwitterClient(object): \n",
    "    ''' \n",
    "    Generic Twitter Class for sentiment analysis. \n",
    "    '''\n",
    "    def __init__(self): \n",
    "        ''' \n",
    "        Class constructor or initialization method. \n",
    "        '''\n",
    "        # keys and tokens from the Twitter Dev Console \n",
    "        consumer_key = config.TWITTER_CONSUMER_KEY\n",
    "        consumer_secret = config.TWITTER_CONSUMER_SECRET\n",
    "        access_token = config.TWITTER_ACCESS_TOKEN\n",
    "        access_token_secret = config.TWITTER_ACCESS_TOKEN_SECRET\n",
    "  \n",
    "        # attempt authentication \n",
    "        try: \n",
    "            # create OAuthHandler object \n",
    "            self.auth = tweepy.OAuthHandler(consumer_key, consumer_secret) \n",
    "            # set access token and secret \n",
    "            self.auth.set_access_token(access_token, access_token_secret) \n",
    "            # create tweepy API object to fetch tweets \n",
    "            self.api = tweepy.API(self.auth) \n",
    "        except: \n",
    "            print(\"Error: Authentication Failed\") \n",
    "  \n",
    "    def clean_tweet(self, tweet): \n",
    "        ''' \n",
    "        Utility function to clean tweet text by removing links, special characters \n",
    "        using simple regex statements. \n",
    "        '''\n",
    "        return ' '.join(re.sub(\"(@[A-Za-z0-9]+)|([^0-9A-Za-z \\t])|(\\w+:\\/\\/\\S+)\", \" \", tweet).split()) \n",
    "  \n",
    "    def get_tweet_sentiment(self, tweet): \n",
    "        ''' \n",
    "        Utility function to classify sentiment of passed tweet \n",
    "        using textblob's sentiment method \n",
    "        '''\n",
    "        # create TextBlob object of passed tweet text \n",
    "        analysis = TextBlob(self.clean_tweet(tweet)) \n",
    "        # set sentiment \n",
    "        if analysis.sentiment.polarity > 0: \n",
    "            return 'positive'\n",
    "        elif analysis.sentiment.polarity == 0: \n",
    "            return 'neutral'\n",
    "        else: \n",
    "            return 'negative'\n",
    "  \n",
    "    def get_tweets(self, query, count = 10): \n",
    "        ''' \n",
    "        Main function to fetch tweets and parse them. \n",
    "        '''\n",
    "        # empty list to store parsed tweets \n",
    "        tweets = [] \n",
    "  \n",
    "        try: \n",
    "            # call twitter api to fetch tweets \n",
    "            fetched_tweets = self.api.search(q = query, count = count) \n",
    "  \n",
    "            # parsing tweets one by one \n",
    "            for tweet in fetched_tweets: \n",
    "                # empty dictionary to store required params of a tweet \n",
    "                parsed_tweet = {} \n",
    "  \n",
    "                # saving text of tweet \n",
    "                parsed_tweet['text'] = tweet.text \n",
    "                # saving sentiment of tweet \n",
    "                parsed_tweet['sentiment'] = self.get_tweet_sentiment(tweet.text) \n",
    "  \n",
    "                # appending parsed tweet to tweets list \n",
    "                if tweet.retweet_count > 0: \n",
    "                    # if tweet has retweets, ensure that it is appended only once \n",
    "                    if parsed_tweet not in tweets: \n",
    "                        tweets.append(parsed_tweet) \n",
    "                else: \n",
    "                    tweets.append(parsed_tweet) \n",
    "  \n",
    "            # return parsed tweets \n",
    "            return tweets \n",
    "  \n",
    "        except tweepy.TweepError as e: \n",
    "            # print error (if any) \n",
    "            print(\"Error : \" + str(e))"
   ]
  },
  {
   "cell_type": "code",
   "execution_count": 6,
   "metadata": {},
   "outputs": [],
   "source": [
    "def reportPositiveAndNegativeTweetPercentage(targetName): \n",
    "    # creating object of TwitterClient Class \n",
    "    api = TwitterClient() \n",
    "    # calling function to get tweets \n",
    "    tweets = api.get_tweets(query = targetName, count = 200) \n",
    "  \n",
    "    # picking positive tweets from tweets \n",
    "    ptweets = [tweet for tweet in tweets if tweet['sentiment'] == 'positive'] \n",
    "    # percentage of positive tweets \n",
    "    print(\"{}'s positive tweets percentage: {} %\".format(targetName, 100*len(ptweets)/len(tweets))) \n",
    "    # picking negative tweets from tweets \n",
    "    ntweets = [tweet for tweet in tweets if tweet['sentiment'] == 'negative'] \n",
    "    # percentage of negative tweets \n",
    "    print(\"{}'s negative tweets percentage: {} %\".format(targetName, 100*len(ntweets)/len(tweets))) \n",
    "    # percentage of neutral tweets \n",
    "    #print(\"Neutral tweets percentage: {} % \".format(100*(len(tweets) - len(ntweets) - len(ptweets)))/len(tweets)) \n",
    "    "
   ]
  },
  {
   "cell_type": "code",
   "execution_count": 10,
   "metadata": {},
   "outputs": [],
   "source": [
    "targetNameList = [\n",
    "    'Donald Trump',\n",
    "    'Joe Biden',\n",
    "    'Elizabeth Warren',\n",
    "    'Bernie Sanders',\n",
    "    'Pete Buttigieg',\n",
    "    'Tulsi Gabbard',\n",
    "    'Amy Klobuchar',\n",
    "    'Kamala Harris',\n",
    "    'Andrew Yang',\n",
    "    'Corey Booker',\n",
    "    'Michael Bloomberg',\n",
    "    'Tom Steyer'\n",
    "]"
   ]
  },
  {
   "cell_type": "code",
   "execution_count": 12,
   "metadata": {
    "scrolled": true
   },
   "outputs": [
    {
     "name": "stdout",
     "output_type": "stream",
     "text": [
      "Donald Trump's positive tweets percentage: 31.25 %\n",
      "Donald Trump's negative tweets percentage: 20.3125 %\n",
      "-----------------------------------------------------\n",
      "|||||||||||||||||||||||||||||||||||||||||||||||||||||\n",
      "-----------------------------------------------------\n",
      "Joe Biden's positive tweets percentage: 22.535211267605632 %\n",
      "Joe Biden's negative tweets percentage: 25.35211267605634 %\n",
      "-----------------------------------------------------\n",
      "|||||||||||||||||||||||||||||||||||||||||||||||||||||\n",
      "-----------------------------------------------------\n",
      "Elizabeth Warren's positive tweets percentage: 32.0 %\n",
      "Elizabeth Warren's negative tweets percentage: 28.0 %\n",
      "-----------------------------------------------------\n",
      "|||||||||||||||||||||||||||||||||||||||||||||||||||||\n",
      "-----------------------------------------------------\n",
      "Bernie Sanders's positive tweets percentage: 32.20338983050848 %\n",
      "Bernie Sanders's negative tweets percentage: 13.559322033898304 %\n",
      "-----------------------------------------------------\n",
      "|||||||||||||||||||||||||||||||||||||||||||||||||||||\n",
      "-----------------------------------------------------\n",
      "Pete Buttigieg's positive tweets percentage: 27.536231884057973 %\n",
      "Pete Buttigieg's negative tweets percentage: 20.28985507246377 %\n",
      "-----------------------------------------------------\n",
      "|||||||||||||||||||||||||||||||||||||||||||||||||||||\n",
      "-----------------------------------------------------\n",
      "Tulsi Gabbard's positive tweets percentage: 31.666666666666668 %\n",
      "Tulsi Gabbard's negative tweets percentage: 18.333333333333332 %\n",
      "-----------------------------------------------------\n",
      "|||||||||||||||||||||||||||||||||||||||||||||||||||||\n",
      "-----------------------------------------------------\n",
      "Amy Klobuchar's positive tweets percentage: 27.083333333333332 %\n",
      "Amy Klobuchar's negative tweets percentage: 16.666666666666668 %\n",
      "-----------------------------------------------------\n",
      "|||||||||||||||||||||||||||||||||||||||||||||||||||||\n",
      "-----------------------------------------------------\n",
      "Kamala Harris's positive tweets percentage: 32.075471698113205 %\n",
      "Kamala Harris's negative tweets percentage: 18.867924528301888 %\n",
      "-----------------------------------------------------\n",
      "|||||||||||||||||||||||||||||||||||||||||||||||||||||\n",
      "-----------------------------------------------------\n",
      "Andrew Yang's positive tweets percentage: 41.07142857142857 %\n",
      "Andrew Yang's negative tweets percentage: 7.142857142857143 %\n",
      "-----------------------------------------------------\n",
      "|||||||||||||||||||||||||||||||||||||||||||||||||||||\n",
      "-----------------------------------------------------\n",
      "Corey Booker's positive tweets percentage: 48.484848484848484 %\n",
      "Corey Booker's negative tweets percentage: 15.151515151515152 %\n",
      "-----------------------------------------------------\n",
      "|||||||||||||||||||||||||||||||||||||||||||||||||||||\n",
      "-----------------------------------------------------\n",
      "Michael Bloomberg's positive tweets percentage: 46.666666666666664 %\n",
      "Michael Bloomberg's negative tweets percentage: 10.0 %\n",
      "-----------------------------------------------------\n",
      "|||||||||||||||||||||||||||||||||||||||||||||||||||||\n",
      "-----------------------------------------------------\n",
      "Tom Steyer's positive tweets percentage: 36.170212765957444 %\n",
      "Tom Steyer's negative tweets percentage: 19.148936170212767 %\n",
      "-----------------------------------------------------\n",
      "|||||||||||||||||||||||||||||||||||||||||||||||||||||\n",
      "-----------------------------------------------------\n"
     ]
    }
   ],
   "source": [
    "for targetName in targetNameList:\n",
    "    reportPositiveAndNegativeTweetPercentage(targetName)\n",
    "    print('-----------------------------------------------------')\n",
    "    print('|||||||||||||||||||||||||||||||||||||||||||||||||||||')\n",
    "    print('-----------------------------------------------------')"
   ]
  },
  {
   "cell_type": "code",
   "execution_count": 13,
   "metadata": {},
   "outputs": [],
   "source": [
    "presidentialCandidateSentimentTracker = {\n",
    "    'name': [],\n",
    "    'timestamp': [],\n",
    "    'Positive Sentiment Percentage': [],\n",
    "    'Negative Sentiment Percentage': []\n",
    "}"
   ]
  },
  {
   "cell_type": "code",
   "execution_count": 14,
   "metadata": {},
   "outputs": [],
   "source": [
    "def recordPositiveTweetPercentage(targetName): \n",
    "    # creating object of TwitterClient Class \n",
    "    api = TwitterClient() \n",
    "    # calling function to get tweets \n",
    "    tweets = api.get_tweets(query = targetName, count = 200) \n",
    "  \n",
    "    # picking positive tweets from tweets \n",
    "    posTweets = [tweet for tweet in tweets if tweet['sentiment'] == 'positive'] \n",
    "    # percentage of positive tweets \n",
    "    posTweetsPercentage = 100*len(posTweets)/len(tweets)\n",
    "    \n",
    "    return posTweetsPercentage\n",
    "    "
   ]
  },
  {
   "cell_type": "code",
   "execution_count": 15,
   "metadata": {},
   "outputs": [],
   "source": [
    "def recordNegativeTweetPercentage(targetName):\n",
    "    # creating object of TwitterClient Class \n",
    "    api = TwitterClient() \n",
    "    # calling function to get tweets \n",
    "    tweets = api.get_tweets(query = targetName, count = 200) \n",
    "    \n",
    "    # picking negative tweets from tweets \n",
    "    negTweets = [tweet for tweet in tweets if tweet['sentiment'] == 'negative'] \n",
    "    # percentage of negative tweets \n",
    "    negTweetsPercentage = 100*len(negTweets)/len(tweets)\n",
    "    \n",
    "    return negTweetsPercentage"
   ]
  },
  {
   "cell_type": "code",
   "execution_count": 16,
   "metadata": {},
   "outputs": [],
   "source": [
    "actionCounter = 0"
   ]
  },
  {
   "cell_type": "code",
   "execution_count": 17,
   "metadata": {},
   "outputs": [],
   "source": [
    "import time as t\n",
    "from datetime import datetime\n",
    "import pandas"
   ]
  },
  {
   "cell_type": "code",
   "execution_count": null,
   "metadata": {},
   "outputs": [
    {
     "name": "stdout",
     "output_type": "stream",
     "text": [
      "{'name': ['Donald Trump', 'Joe Biden', 'Elizabeth Warren', 'Bernie Sanders', 'Pete Buttigieg', 'Tulsi Gabbard', 'Amy Klobuchar', 'Kamala Harris', 'Andrew Yang', 'Corey Booker', 'Michael Bloomberg', 'Tom Steyer'], 'timestamp': [datetime.datetime(2019, 12, 6, 19, 57, 10, 209647), datetime.datetime(2019, 12, 6, 19, 57, 13, 52555), datetime.datetime(2019, 12, 6, 19, 57, 14, 959183), datetime.datetime(2019, 12, 6, 19, 57, 17, 498332), datetime.datetime(2019, 12, 6, 19, 57, 19, 452985), datetime.datetime(2019, 12, 6, 19, 57, 21, 664544), datetime.datetime(2019, 12, 6, 19, 57, 23, 132913), datetime.datetime(2019, 12, 6, 19, 57, 24, 559234), datetime.datetime(2019, 12, 6, 19, 57, 25, 940125), datetime.datetime(2019, 12, 6, 19, 57, 27, 380267), datetime.datetime(2019, 12, 6, 19, 57, 28, 753626), datetime.datetime(2019, 12, 6, 19, 57, 30, 309452)], 'Positive Sentiment Percentage': [28.571428571428573, 30.158730158730158, 47.5, 39.6551724137931, 26.923076923076923, 31.147540983606557, 27.659574468085108, 25.925925925925927, 42.857142857142854, 48.484848484848484, 49.18032786885246, 36.170212765957444], 'Negative Sentiment Percentage': [21.875, 19.047619047619047, 22.5, 10.526315789473685, 19.23076923076923, 21.311475409836067, 17.02127659574468, 25.925925925925927, 7.142857142857143, 15.151515151515152, 6.557377049180328, 19.148936170212767]}\n"
     ]
    }
   ],
   "source": [
    "while actionCounter != 6:\n",
    "    for target in targetNameList:\n",
    "            presidentialCandidateSentimentTracker['name'].append(target)\n",
    "            presidentialCandidateSentimentTracker['timestamp'].append(datetime.now())\n",
    "            presidentialCandidateSentimentTracker['Positive Sentiment Percentage'].append(recordPositiveTweetPercentage(target))\n",
    "            presidentialCandidateSentimentTracker['Negative Sentiment Percentage'].append(recordNegativeTweetPercentage(target))    \n",
    "    actionCounter+=1\n",
    "    print(presidentialCandidateSentimentTracker)\n",
    "    t.sleep(600)"
   ]
  },
  {
   "cell_type": "code",
   "execution_count": null,
   "metadata": {},
   "outputs": [],
   "source": [
    "posSentimentList = []\n",
    "negSentimentList = []\n",
    "for entry in presidentialCandidateSentimentTracker:\n",
    "    posSentimentList.append(presidentialCandidateSentimentTracker[entry][0])\n",
    "    negSentimentList.append(presidentialCandidateSentimentTracker[entry][1])"
   ]
  },
  {
   "cell_type": "markdown",
   "metadata": {},
   "source": [
    "## Plotting"
   ]
  },
  {
   "cell_type": "code",
   "execution_count": null,
   "metadata": {},
   "outputs": [],
   "source": [
    "import matplotlib.pyplot as plt"
   ]
  },
  {
   "cell_type": "code",
   "execution_count": null,
   "metadata": {},
   "outputs": [],
   "source": [
    "presidentialCandidateSentimentTracker"
   ]
  },
  {
   "cell_type": "code",
   "execution_count": null,
   "metadata": {},
   "outputs": [],
   "source": [
    "pd.set_option('display.max_rows', 500)\n",
    "pd.set_option('display.max_columns', 500)\n",
    "pd.set_option('display.width', 1000)"
   ]
  },
  {
   "cell_type": "code",
   "execution_count": null,
   "metadata": {},
   "outputs": [],
   "source": [
    "df = pd.DataFrame(presidentialCandidateSentimentTracker)"
   ]
  },
  {
   "cell_type": "code",
   "execution_count": 50,
   "metadata": {},
   "outputs": [
    {
     "data": {
      "text/html": [
       "<div>\n",
       "<style scoped>\n",
       "    .dataframe tbody tr th:only-of-type {\n",
       "        vertical-align: middle;\n",
       "    }\n",
       "\n",
       "    .dataframe tbody tr th {\n",
       "        vertical-align: top;\n",
       "    }\n",
       "\n",
       "    .dataframe thead th {\n",
       "        text-align: right;\n",
       "    }\n",
       "</style>\n",
       "<table border=\"1\" class=\"dataframe\">\n",
       "  <thead>\n",
       "    <tr style=\"text-align: right;\">\n",
       "      <th></th>\n",
       "      <th>name</th>\n",
       "      <th>timestamp</th>\n",
       "      <th>Positive Sentiment Percentage</th>\n",
       "      <th>Negative Sentiment Percentage</th>\n",
       "    </tr>\n",
       "  </thead>\n",
       "  <tbody>\n",
       "    <tr>\n",
       "      <td>7</td>\n",
       "      <td>Kamala Harris</td>\n",
       "      <td>2019-11-20 21:52:41.694149</td>\n",
       "      <td>19.354839</td>\n",
       "      <td>39.682540</td>\n",
       "    </tr>\n",
       "    <tr>\n",
       "      <td>19</td>\n",
       "      <td>Kamala Harris</td>\n",
       "      <td>2019-11-20 22:02:58.688369</td>\n",
       "      <td>24.285714</td>\n",
       "      <td>37.142857</td>\n",
       "    </tr>\n",
       "    <tr>\n",
       "      <td>31</td>\n",
       "      <td>Kamala Harris</td>\n",
       "      <td>2019-11-20 22:13:14.910944</td>\n",
       "      <td>28.125000</td>\n",
       "      <td>31.746032</td>\n",
       "    </tr>\n",
       "    <tr>\n",
       "      <td>43</td>\n",
       "      <td>Kamala Harris</td>\n",
       "      <td>2019-11-20 22:23:31.626915</td>\n",
       "      <td>27.868852</td>\n",
       "      <td>24.590164</td>\n",
       "    </tr>\n",
       "    <tr>\n",
       "      <td>55</td>\n",
       "      <td>Kamala Harris</td>\n",
       "      <td>2019-11-20 22:33:48.244718</td>\n",
       "      <td>39.062500</td>\n",
       "      <td>19.047619</td>\n",
       "    </tr>\n",
       "    <tr>\n",
       "      <td>67</td>\n",
       "      <td>Kamala Harris</td>\n",
       "      <td>2019-11-20 22:44:05.087092</td>\n",
       "      <td>27.777778</td>\n",
       "      <td>20.754717</td>\n",
       "    </tr>\n",
       "  </tbody>\n",
       "</table>\n",
       "</div>"
      ],
      "text/plain": [
       "             name                  timestamp  Positive Sentiment Percentage  Negative Sentiment Percentage\n",
       "7   Kamala Harris 2019-11-20 21:52:41.694149                      19.354839                      39.682540\n",
       "19  Kamala Harris 2019-11-20 22:02:58.688369                      24.285714                      37.142857\n",
       "31  Kamala Harris 2019-11-20 22:13:14.910944                      28.125000                      31.746032\n",
       "43  Kamala Harris 2019-11-20 22:23:31.626915                      27.868852                      24.590164\n",
       "55  Kamala Harris 2019-11-20 22:33:48.244718                      39.062500                      19.047619\n",
       "67  Kamala Harris 2019-11-20 22:44:05.087092                      27.777778                      20.754717"
      ]
     },
     "execution_count": 50,
     "metadata": {},
     "output_type": "execute_result"
    }
   ],
   "source": [
    "df[df['name']=='Kamala Harris']"
   ]
  },
  {
   "cell_type": "code",
   "execution_count": 51,
   "metadata": {},
   "outputs": [
    {
     "data": {
      "text/html": [
       "<div>\n",
       "<style scoped>\n",
       "    .dataframe tbody tr th:only-of-type {\n",
       "        vertical-align: middle;\n",
       "    }\n",
       "\n",
       "    .dataframe tbody tr th {\n",
       "        vertical-align: top;\n",
       "    }\n",
       "\n",
       "    .dataframe thead th {\n",
       "        text-align: right;\n",
       "    }\n",
       "</style>\n",
       "<table border=\"1\" class=\"dataframe\">\n",
       "  <thead>\n",
       "    <tr style=\"text-align: right;\">\n",
       "      <th></th>\n",
       "      <th>name</th>\n",
       "      <th>timestamp</th>\n",
       "      <th>Positive Sentiment Percentage</th>\n",
       "      <th>Negative Sentiment Percentage</th>\n",
       "    </tr>\n",
       "  </thead>\n",
       "  <tbody>\n",
       "    <tr>\n",
       "      <td>4</td>\n",
       "      <td>Pete Buttigieg</td>\n",
       "      <td>2019-11-20 21:52:37.349844</td>\n",
       "      <td>40.000000</td>\n",
       "      <td>33.333333</td>\n",
       "    </tr>\n",
       "    <tr>\n",
       "      <td>16</td>\n",
       "      <td>Pete Buttigieg</td>\n",
       "      <td>2019-11-20 22:02:54.427637</td>\n",
       "      <td>33.823529</td>\n",
       "      <td>23.880597</td>\n",
       "    </tr>\n",
       "    <tr>\n",
       "      <td>28</td>\n",
       "      <td>Pete Buttigieg</td>\n",
       "      <td>2019-11-20 22:13:10.984172</td>\n",
       "      <td>38.983051</td>\n",
       "      <td>23.728814</td>\n",
       "    </tr>\n",
       "    <tr>\n",
       "      <td>40</td>\n",
       "      <td>Pete Buttigieg</td>\n",
       "      <td>2019-11-20 22:23:27.563050</td>\n",
       "      <td>33.783784</td>\n",
       "      <td>21.917808</td>\n",
       "    </tr>\n",
       "    <tr>\n",
       "      <td>52</td>\n",
       "      <td>Pete Buttigieg</td>\n",
       "      <td>2019-11-20 22:33:44.061301</td>\n",
       "      <td>38.983051</td>\n",
       "      <td>26.666667</td>\n",
       "    </tr>\n",
       "    <tr>\n",
       "      <td>64</td>\n",
       "      <td>Pete Buttigieg</td>\n",
       "      <td>2019-11-20 22:44:00.549075</td>\n",
       "      <td>29.850746</td>\n",
       "      <td>28.125000</td>\n",
       "    </tr>\n",
       "  </tbody>\n",
       "</table>\n",
       "</div>"
      ],
      "text/plain": [
       "              name                  timestamp  Positive Sentiment Percentage  Negative Sentiment Percentage\n",
       "4   Pete Buttigieg 2019-11-20 21:52:37.349844                      40.000000                      33.333333\n",
       "16  Pete Buttigieg 2019-11-20 22:02:54.427637                      33.823529                      23.880597\n",
       "28  Pete Buttigieg 2019-11-20 22:13:10.984172                      38.983051                      23.728814\n",
       "40  Pete Buttigieg 2019-11-20 22:23:27.563050                      33.783784                      21.917808\n",
       "52  Pete Buttigieg 2019-11-20 22:33:44.061301                      38.983051                      26.666667\n",
       "64  Pete Buttigieg 2019-11-20 22:44:00.549075                      29.850746                      28.125000"
      ]
     },
     "execution_count": 51,
     "metadata": {},
     "output_type": "execute_result"
    }
   ],
   "source": [
    "df[df['name']=='Pete Buttigieg']"
   ]
  },
  {
   "cell_type": "code",
   "execution_count": 54,
   "metadata": {},
   "outputs": [
    {
     "data": {
      "text/html": [
       "<div>\n",
       "<style scoped>\n",
       "    .dataframe tbody tr th:only-of-type {\n",
       "        vertical-align: middle;\n",
       "    }\n",
       "\n",
       "    .dataframe tbody tr th {\n",
       "        vertical-align: top;\n",
       "    }\n",
       "\n",
       "    .dataframe thead th {\n",
       "        text-align: right;\n",
       "    }\n",
       "</style>\n",
       "<table border=\"1\" class=\"dataframe\">\n",
       "  <thead>\n",
       "    <tr style=\"text-align: right;\">\n",
       "      <th></th>\n",
       "      <th>name</th>\n",
       "      <th>timestamp</th>\n",
       "      <th>Positive Sentiment Percentage</th>\n",
       "      <th>Negative Sentiment Percentage</th>\n",
       "    </tr>\n",
       "  </thead>\n",
       "  <tbody>\n",
       "    <tr>\n",
       "      <td>5</td>\n",
       "      <td>Tulsi Gabbard</td>\n",
       "      <td>2019-11-20 21:52:38.678261</td>\n",
       "      <td>23.333333</td>\n",
       "      <td>18.644068</td>\n",
       "    </tr>\n",
       "    <tr>\n",
       "      <td>17</td>\n",
       "      <td>Tulsi Gabbard</td>\n",
       "      <td>2019-11-20 22:02:55.694670</td>\n",
       "      <td>25.925926</td>\n",
       "      <td>26.250000</td>\n",
       "    </tr>\n",
       "    <tr>\n",
       "      <td>29</td>\n",
       "      <td>Tulsi Gabbard</td>\n",
       "      <td>2019-11-20 22:13:12.317247</td>\n",
       "      <td>40.816327</td>\n",
       "      <td>21.153846</td>\n",
       "    </tr>\n",
       "    <tr>\n",
       "      <td>41</td>\n",
       "      <td>Tulsi Gabbard</td>\n",
       "      <td>2019-11-20 22:23:28.903375</td>\n",
       "      <td>44.067797</td>\n",
       "      <td>17.241379</td>\n",
       "    </tr>\n",
       "    <tr>\n",
       "      <td>53</td>\n",
       "      <td>Tulsi Gabbard</td>\n",
       "      <td>2019-11-20 22:33:45.543108</td>\n",
       "      <td>34.042553</td>\n",
       "      <td>25.531915</td>\n",
       "    </tr>\n",
       "    <tr>\n",
       "      <td>65</td>\n",
       "      <td>Tulsi Gabbard</td>\n",
       "      <td>2019-11-20 22:44:02.052408</td>\n",
       "      <td>36.363636</td>\n",
       "      <td>25.000000</td>\n",
       "    </tr>\n",
       "  </tbody>\n",
       "</table>\n",
       "</div>"
      ],
      "text/plain": [
       "             name                  timestamp  Positive Sentiment Percentage  Negative Sentiment Percentage\n",
       "5   Tulsi Gabbard 2019-11-20 21:52:38.678261                      23.333333                      18.644068\n",
       "17  Tulsi Gabbard 2019-11-20 22:02:55.694670                      25.925926                      26.250000\n",
       "29  Tulsi Gabbard 2019-11-20 22:13:12.317247                      40.816327                      21.153846\n",
       "41  Tulsi Gabbard 2019-11-20 22:23:28.903375                      44.067797                      17.241379\n",
       "53  Tulsi Gabbard 2019-11-20 22:33:45.543108                      34.042553                      25.531915\n",
       "65  Tulsi Gabbard 2019-11-20 22:44:02.052408                      36.363636                      25.000000"
      ]
     },
     "execution_count": 54,
     "metadata": {},
     "output_type": "execute_result"
    }
   ],
   "source": [
    "df[df['name']=='Tulsi Gabbard']"
   ]
  },
  {
   "cell_type": "code",
   "execution_count": null,
   "metadata": {},
   "outputs": [],
   "source": []
  }
 ],
 "metadata": {
  "kernelspec": {
   "display_name": "Python 3",
   "language": "python",
   "name": "python3"
  },
  "language_info": {
   "codemirror_mode": {
    "name": "ipython",
    "version": 3
   },
   "file_extension": ".py",
   "mimetype": "text/x-python",
   "name": "python",
   "nbconvert_exporter": "python",
   "pygments_lexer": "ipython3",
   "version": "3.7.4"
  }
 },
 "nbformat": 4,
 "nbformat_minor": 2
}
