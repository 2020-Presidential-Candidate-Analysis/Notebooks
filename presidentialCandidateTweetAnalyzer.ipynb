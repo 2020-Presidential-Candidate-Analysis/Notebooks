{
 "cells": [
  {
   "cell_type": "markdown",
   "metadata": {},
   "source": [
    "## Notebook Goals"
   ]
  },
  {
   "cell_type": "markdown",
   "metadata": {},
   "source": [
    "The goal of this notebook is to connect to the twitter API and do some basic NLP analysis on the U.S. presidential candidates mentioned in the table below."
   ]
  },
  {
   "cell_type": "markdown",
   "metadata": {},
   "source": [
    "## Candidate List"
   ]
  },
  {
   "cell_type": "markdown",
   "metadata": {},
   "source": [
    "| **Republican**  |**Twitter Handle** |\n",
    "|:--------------- |:----------------- |\n",
    "|Donald Trump     |@realDonaldTrump   |\n",
    "\n",
    "\n",
    "\n",
    "| **Democrat**    |**Twitter Handle** |\n",
    "|:--------------- |:----------------- |\n",
    "|Joe Biden        |@JoeBiden          |\n",
    "|Elizabeth Warren |@ewarren           |\n",
    "|Bernie Sanders   |@BernieSanders     |\n",
    "|Pete Buttigieg   |@PeteButtigieg     |\n",
    "|Tulsi Gabbard    |@TulsiGabbard      |\n",
    "|Amy Klobuchar    |@amyklobuchar      |\n",
    "|Kamala Harris    |@KamalaHarris      |\n",
    "|Andrew Yang      |@AndrewYang        |\n",
    "|Corey Booker     |@CoreyBooker       |\n",
    "|Michael Bloomberg|@MikeBloomberg     |\n",
    "|Tom Steyer       |@TomSteyer         |\n"
   ]
  },
  {
   "cell_type": "code",
   "execution_count": null,
   "metadata": {},
   "outputs": [],
   "source": []
  },
  {
   "cell_type": "markdown",
   "metadata": {},
   "source": [
    "### Twitter Dev Information\n"
   ]
  },
  {
   "cell_type": "code",
   "execution_count": 1,
   "metadata": {},
   "outputs": [
    {
     "ename": "ModuleNotFoundError",
     "evalue": "No module named 'config'",
     "output_type": "error",
     "traceback": [
      "\u001b[0;31m---------------------------------------------------------------------------\u001b[0m",
      "\u001b[0;31mModuleNotFoundError\u001b[0m                       Traceback (most recent call last)",
      "\u001b[0;32m<ipython-input-1-0ab302e7c0f7>\u001b[0m in \u001b[0;36m<module>\u001b[0;34m\u001b[0m\n\u001b[1;32m      1\u001b[0m \u001b[0;31m# Local file contains twitter API Keys\u001b[0m\u001b[0;34m\u001b[0m\u001b[0;34m\u001b[0m\u001b[0;34m\u001b[0m\u001b[0m\n\u001b[0;32m----> 2\u001b[0;31m \u001b[0;32mimport\u001b[0m \u001b[0mconfig\u001b[0m\u001b[0;34m\u001b[0m\u001b[0;34m\u001b[0m\u001b[0m\n\u001b[0m",
      "\u001b[0;31mModuleNotFoundError\u001b[0m: No module named 'config'"
     ]
    }
   ],
   "source": [
    "# Local file contains twitter API Keys\n",
    "import config"
   ]
  },
  {
   "cell_type": "code",
   "execution_count": 2,
   "metadata": {},
   "outputs": [],
   "source": [
    "import tweepy\n",
    "from textblob import TextBlob \n",
    "import re\n",
    "import numpy as np\n",
    "import pandas as pd\n",
    "import datetime"
   ]
  },
  {
   "cell_type": "code",
   "execution_count": 8,
   "metadata": {},
   "outputs": [],
   "source": [
    "TWITTER_AUTH = tweepy.OAuthHandler(config.TWITTER_CONSUMER_KEY,\n",
    "                                   config.TWITTER_CONSUMER_SECRET)\n",
    "TWITTER_AUTH.set_access_token(config.TWITTER_ACCESS_TOKEN,\n",
    "                              config.TWITTER_ACCESS_TOKEN_SECRET)"
   ]
  },
  {
   "cell_type": "code",
   "execution_count": 9,
   "metadata": {},
   "outputs": [],
   "source": [
    "TWITTER = tweepy.API(TWITTER_AUTH)"
   ]
  },
  {
   "cell_type": "code",
   "execution_count": 10,
   "metadata": {},
   "outputs": [],
   "source": [
    "donaldTrump = TWITTER.get_user('realDonaldTrump')\n",
    "joeBiden = TWITTER.get_user('JoeBiden')\n",
    "elizabethWarren =  TWITTER.get_user('ewarren')\n",
    "bernieSanders = TWITTER.get_user('BernieSanders')\n"
   ]
  },
  {
   "cell_type": "code",
   "execution_count": 11,
   "metadata": {},
   "outputs": [
    {
     "data": {
      "text/plain": [
       "User(_api=<tweepy.api.API object at 0x1a17deb710>, _json={'id': 25073877, 'id_str': '25073877', 'name': 'Donald J. Trump', 'screen_name': 'realDonaldTrump', 'location': 'Washington, DC', 'profile_location': None, 'description': '45th President of the United States of America🇺🇸', 'url': 'https://t.co/OMxB0x7xC5', 'entities': {'url': {'urls': [{'url': 'https://t.co/OMxB0x7xC5', 'expanded_url': 'http://www.Instagram.com/realDonaldTrump', 'display_url': 'Instagram.com/realDonaldTrump', 'indices': [0, 23]}]}, 'description': {'urls': []}}, 'protected': False, 'followers_count': 67304350, 'friends_count': 47, 'listed_count': 111078, 'created_at': 'Wed Mar 18 13:46:38 +0000 2009', 'favourites_count': 7, 'utc_offset': None, 'time_zone': None, 'geo_enabled': True, 'verified': True, 'statuses_count': 46679, 'lang': None, 'status': {'created_at': 'Sat Dec 07 00:28:48 +0000 2019', 'id': 1203109065070665728, 'id_str': '1203109065070665728', 'text': 'Why is the World Bank loaning money to China? Can this be possible? China has plenty of money, and if they don’t, they create it. STOP!', 'truncated': False, 'entities': {'hashtags': [], 'symbols': [], 'user_mentions': [], 'urls': []}, 'source': '<a href=\"http://twitter.com/download/iphone\" rel=\"nofollow\">Twitter for iPhone</a>', 'in_reply_to_status_id': None, 'in_reply_to_status_id_str': None, 'in_reply_to_user_id': None, 'in_reply_to_user_id_str': None, 'in_reply_to_screen_name': None, 'geo': None, 'coordinates': None, 'place': None, 'contributors': None, 'is_quote_status': False, 'retweet_count': 6544, 'favorite_count': 20844, 'favorited': False, 'retweeted': False, 'lang': 'en'}, 'contributors_enabled': False, 'is_translator': False, 'is_translation_enabled': True, 'profile_background_color': '6D5C18', 'profile_background_image_url': 'http://abs.twimg.com/images/themes/theme1/bg.png', 'profile_background_image_url_https': 'https://abs.twimg.com/images/themes/theme1/bg.png', 'profile_background_tile': True, 'profile_image_url': 'http://pbs.twimg.com/profile_images/874276197357596672/kUuht00m_normal.jpg', 'profile_image_url_https': 'https://pbs.twimg.com/profile_images/874276197357596672/kUuht00m_normal.jpg', 'profile_banner_url': 'https://pbs.twimg.com/profile_banners/25073877/1560920145', 'profile_link_color': '1B95E0', 'profile_sidebar_border_color': 'BDDCAD', 'profile_sidebar_fill_color': 'C5CEC0', 'profile_text_color': '333333', 'profile_use_background_image': True, 'has_extended_profile': False, 'default_profile': False, 'default_profile_image': False, 'can_media_tag': False, 'followed_by': False, 'following': False, 'follow_request_sent': False, 'notifications': False, 'translator_type': 'regular'}, id=25073877, id_str='25073877', name='Donald J. Trump', screen_name='realDonaldTrump', location='Washington, DC', profile_location=None, description='45th President of the United States of America🇺🇸', url='https://t.co/OMxB0x7xC5', entities={'url': {'urls': [{'url': 'https://t.co/OMxB0x7xC5', 'expanded_url': 'http://www.Instagram.com/realDonaldTrump', 'display_url': 'Instagram.com/realDonaldTrump', 'indices': [0, 23]}]}, 'description': {'urls': []}}, protected=False, followers_count=67304350, friends_count=47, listed_count=111078, created_at=datetime.datetime(2009, 3, 18, 13, 46, 38), favourites_count=7, utc_offset=None, time_zone=None, geo_enabled=True, verified=True, statuses_count=46679, lang=None, status=Status(_api=<tweepy.api.API object at 0x1a17deb710>, _json={'created_at': 'Sat Dec 07 00:28:48 +0000 2019', 'id': 1203109065070665728, 'id_str': '1203109065070665728', 'text': 'Why is the World Bank loaning money to China? Can this be possible? China has plenty of money, and if they don’t, they create it. STOP!', 'truncated': False, 'entities': {'hashtags': [], 'symbols': [], 'user_mentions': [], 'urls': []}, 'source': '<a href=\"http://twitter.com/download/iphone\" rel=\"nofollow\">Twitter for iPhone</a>', 'in_reply_to_status_id': None, 'in_reply_to_status_id_str': None, 'in_reply_to_user_id': None, 'in_reply_to_user_id_str': None, 'in_reply_to_screen_name': None, 'geo': None, 'coordinates': None, 'place': None, 'contributors': None, 'is_quote_status': False, 'retweet_count': 6544, 'favorite_count': 20844, 'favorited': False, 'retweeted': False, 'lang': 'en'}, created_at=datetime.datetime(2019, 12, 7, 0, 28, 48), id=1203109065070665728, id_str='1203109065070665728', text='Why is the World Bank loaning money to China? Can this be possible? China has plenty of money, and if they don’t, they create it. STOP!', truncated=False, entities={'hashtags': [], 'symbols': [], 'user_mentions': [], 'urls': []}, source='Twitter for iPhone', source_url='http://twitter.com/download/iphone', in_reply_to_status_id=None, in_reply_to_status_id_str=None, in_reply_to_user_id=None, in_reply_to_user_id_str=None, in_reply_to_screen_name=None, geo=None, coordinates=None, place=None, contributors=None, is_quote_status=False, retweet_count=6544, favorite_count=20844, favorited=False, retweeted=False, lang='en'), contributors_enabled=False, is_translator=False, is_translation_enabled=True, profile_background_color='6D5C18', profile_background_image_url='http://abs.twimg.com/images/themes/theme1/bg.png', profile_background_image_url_https='https://abs.twimg.com/images/themes/theme1/bg.png', profile_background_tile=True, profile_image_url='http://pbs.twimg.com/profile_images/874276197357596672/kUuht00m_normal.jpg', profile_image_url_https='https://pbs.twimg.com/profile_images/874276197357596672/kUuht00m_normal.jpg', profile_banner_url='https://pbs.twimg.com/profile_banners/25073877/1560920145', profile_link_color='1B95E0', profile_sidebar_border_color='BDDCAD', profile_sidebar_fill_color='C5CEC0', profile_text_color='333333', profile_use_background_image=True, has_extended_profile=False, default_profile=False, default_profile_image=False, can_media_tag=False, followed_by=False, following=False, follow_request_sent=False, notifications=False, translator_type='regular')"
      ]
     },
     "execution_count": 11,
     "metadata": {},
     "output_type": "execute_result"
    }
   ],
   "source": [
    "donaldTrump"
   ]
  },
  {
   "cell_type": "code",
   "execution_count": 32,
   "metadata": {},
   "outputs": [],
   "source": [
    "warrenTweets = elizabethWarren.timeline(\n",
    "      count=250, exclude_replies=True, include_rts=False,\n",
    "      tweet_mode='extended')"
   ]
  },
  {
   "cell_type": "code",
   "execution_count": 33,
   "metadata": {},
   "outputs": [
    {
     "data": {
      "text/plain": [
       "'I knew Mark Zandi was skeptical, so I had him check the numbers on my plan to pay for #MedicareForAll. He confirmed they add up. https://t.co/drGc6eGNCD'"
      ]
     },
     "execution_count": 33,
     "metadata": {},
     "output_type": "execute_result"
    }
   ],
   "source": [
    "warrenTweets[86].full_text"
   ]
  },
  {
   "cell_type": "code",
   "execution_count": null,
   "metadata": {},
   "outputs": [],
   "source": []
  },
  {
   "cell_type": "markdown",
   "metadata": {},
   "source": [
    "## Taken from Geeks for Geeks"
   ]
  },
  {
   "cell_type": "code",
   "execution_count": 34,
   "metadata": {},
   "outputs": [],
   "source": [
    "class TwitterClient(object): \n",
    "    ''' \n",
    "    Generic Twitter Class for sentiment analysis. \n",
    "    '''\n",
    "    def __init__(self): \n",
    "        ''' \n",
    "        Class constructor or initialization method. \n",
    "        '''\n",
    "        # keys and tokens from the Twitter Dev Console \n",
    "        consumer_key = '4iNaXAi4Fj5IzvGk1LyUcb5hf'\n",
    "        consumer_secret = '58nT5sWiKRGvh4RKpD6Vgxeq9K3Fs9VaFVHpdFEavT7tgnSSvA'\n",
    "        access_token = '1140717029957222401-deCFUkHbshjBn3j9J9SeMEJ7cQjafx'\n",
    "        access_token_secret = 'xozAhB01RpR934YABm2NPns6SMpff1hLI7XGIhzFyDubx'\n",
    "  \n",
    "        # attempt authentication \n",
    "        try: \n",
    "            # create OAuthHandler object \n",
    "            self.auth = tweepy.OAuthHandler(consumer_key, consumer_secret) \n",
    "            # set access token and secret \n",
    "            self.auth.set_access_token(access_token, access_token_secret) \n",
    "            # create tweepy API object to fetch tweets \n",
    "            self.api = tweepy.API(self.auth) \n",
    "        except: \n",
    "            print(\"Error: Authentication Failed\") \n",
    "  \n",
    "    def clean_tweet(self, tweet): \n",
    "        ''' \n",
    "        Utility function to clean tweet text by removing links, special characters \n",
    "        using simple regex statements. \n",
    "        '''\n",
    "        return ' '.join(re.sub(\"(@[A-Za-z0-9]+)|([^0-9A-Za-z \\t])|(\\w+:\\/\\/\\S+)\", \" \", tweet).split()) \n",
    "  \n",
    "    def get_tweet_sentiment(self, tweet): \n",
    "        ''' \n",
    "        Utility function to classify sentiment of passed tweet \n",
    "        using textblob's sentiment method \n",
    "        '''\n",
    "        # create TextBlob object of passed tweet text \n",
    "        analysis = TextBlob(self.clean_tweet(tweet)) \n",
    "        # set sentiment \n",
    "        if analysis.sentiment.polarity > 0: \n",
    "            return 'positive'\n",
    "        elif analysis.sentiment.polarity == 0: \n",
    "            return 'neutral'\n",
    "        else: \n",
    "            return 'negative'\n",
    "  \n",
    "    def get_tweets(self, query, count = 10): \n",
    "        ''' \n",
    "        Main function to fetch tweets and parse them. \n",
    "        '''\n",
    "        # empty list to store parsed tweets \n",
    "        tweets = [] \n",
    "  \n",
    "        try: \n",
    "            # call twitter api to fetch tweets \n",
    "            fetched_tweets = self.api.search(q = query, count = count) \n",
    "  \n",
    "            # parsing tweets one by one \n",
    "            for tweet in fetched_tweets: \n",
    "                # empty dictionary to store required params of a tweet \n",
    "                parsed_tweet = {} \n",
    "  \n",
    "                # saving text of tweet \n",
    "                parsed_tweet['text'] = tweet.text \n",
    "                # saving sentiment of tweet \n",
    "                parsed_tweet['sentiment'] = self.get_tweet_sentiment(tweet.text) \n",
    "  \n",
    "                # appending parsed tweet to tweets list \n",
    "                if tweet.retweet_count > 0: \n",
    "                    # if tweet has retweets, ensure that it is appended only once \n",
    "                    if parsed_tweet not in tweets: \n",
    "                        tweets.append(parsed_tweet) \n",
    "                else: \n",
    "                    tweets.append(parsed_tweet) \n",
    "  \n",
    "            # return parsed tweets \n",
    "            return tweets \n",
    "  \n",
    "        except tweepy.TweepError as e: \n",
    "            # print error (if any) \n",
    "            print(\"Error : \" + str(e))"
   ]
  },
  {
   "cell_type": "code",
   "execution_count": 35,
   "metadata": {},
   "outputs": [],
   "source": [
    "def reportPositiveAndNegativeTweetPercentage(targetName): \n",
    "    # creating object of TwitterClient Class \n",
    "    api = TwitterClient() \n",
    "    # calling function to get tweets \n",
    "    tweets = api.get_tweets(query = targetName, count = 200) \n",
    "  \n",
    "    # picking positive tweets from tweets \n",
    "    ptweets = [tweet for tweet in tweets if tweet['sentiment'] == 'positive'] \n",
    "    # percentage of positive tweets \n",
    "    print(\"{}'s positive tweets percentage: {} %\".format(targetName, 100*len(ptweets)/len(tweets))) \n",
    "    # picking negative tweets from tweets \n",
    "    ntweets = [tweet for tweet in tweets if tweet['sentiment'] == 'negative'] \n",
    "    # percentage of negative tweets \n",
    "    print(\"{}'s negative tweets percentage: {} %\".format(targetName, 100*len(ntweets)/len(tweets))) \n",
    "    # percentage of neutral tweets \n",
    "    #print(\"Neutral tweets percentage: {} % \".format(100*(len(tweets) - len(ntweets) - len(ptweets)))/len(tweets)) \n",
    "    "
   ]
  },
  {
   "cell_type": "code",
   "execution_count": 11,
   "metadata": {
    "scrolled": true
   },
   "outputs": [
    {
     "name": "stdout",
     "output_type": "stream",
     "text": [
      "\n",
      "\n",
      "Positive tweets:\n"
     ]
    },
    {
     "ename": "NameError",
     "evalue": "name 'ptweets' is not defined",
     "output_type": "error",
     "traceback": [
      "\u001b[0;31m---------------------------------------------------------------------------\u001b[0m",
      "\u001b[0;31mNameError\u001b[0m                                 Traceback (most recent call last)",
      "\u001b[0;32m<ipython-input-11-1e41f32c52ee>\u001b[0m in \u001b[0;36m<module>\u001b[0;34m\u001b[0m\n\u001b[1;32m      1\u001b[0m \u001b[0;31m# printing first 5 positive tweets\u001b[0m\u001b[0;34m\u001b[0m\u001b[0;34m\u001b[0m\u001b[0;34m\u001b[0m\u001b[0m\n\u001b[1;32m      2\u001b[0m \u001b[0mprint\u001b[0m\u001b[0;34m(\u001b[0m\u001b[0;34m\"\\n\\nPositive tweets:\"\u001b[0m\u001b[0;34m)\u001b[0m\u001b[0;34m\u001b[0m\u001b[0;34m\u001b[0m\u001b[0m\n\u001b[0;32m----> 3\u001b[0;31m \u001b[0;32mfor\u001b[0m \u001b[0mtweet\u001b[0m \u001b[0;32min\u001b[0m \u001b[0mptweets\u001b[0m\u001b[0;34m[\u001b[0m\u001b[0;34m:\u001b[0m\u001b[0;36m10\u001b[0m\u001b[0;34m]\u001b[0m\u001b[0;34m:\u001b[0m\u001b[0;34m\u001b[0m\u001b[0;34m\u001b[0m\u001b[0m\n\u001b[0m\u001b[1;32m      4\u001b[0m     \u001b[0mprint\u001b[0m\u001b[0;34m(\u001b[0m\u001b[0mtweet\u001b[0m\u001b[0;34m[\u001b[0m\u001b[0;34m'text'\u001b[0m\u001b[0;34m]\u001b[0m\u001b[0;34m)\u001b[0m\u001b[0;34m\u001b[0m\u001b[0;34m\u001b[0m\u001b[0m\n\u001b[1;32m      5\u001b[0m \u001b[0;34m\u001b[0m\u001b[0m\n",
      "\u001b[0;31mNameError\u001b[0m: name 'ptweets' is not defined"
     ]
    }
   ],
   "source": [
    "# printing first 5 positive tweets \n",
    "print(\"\\n\\nPositive tweets:\") \n",
    "for tweet in ptweets[:10]: \n",
    "    print(tweet['text'])\n",
    "    \n",
    "print('---------------------------------------')\n",
    "\n",
    "# printing first 5 negative tweets \n",
    "print(\"\\n\\nNegative tweets:\") \n",
    "for tweet in ntweets[:10]: \n",
    "    print(tweet['text']) "
   ]
  },
  {
   "cell_type": "code",
   "execution_count": 16,
   "metadata": {},
   "outputs": [
    {
     "name": "stdout",
     "output_type": "stream",
     "text": [
      "Donald Trump's positive tweets percentage: 23.68421052631579 %\n",
      "Donald Trump's negative tweets percentage: 27.63157894736842 %\n",
      "-----------------------------------------------------\n",
      "|||||||||||||||||||||||||||||||||||||||||||||||||||||\n",
      "-----------------------------------------------------\n",
      "Joe Biden's positive tweets percentage: 33.9622641509434 %\n",
      "Joe Biden's negative tweets percentage: 24.528301886792452 %\n",
      "-----------------------------------------------------\n",
      "|||||||||||||||||||||||||||||||||||||||||||||||||||||\n",
      "-----------------------------------------------------\n",
      "Elizabeth Warren's positive tweets percentage: 35.416666666666664 %\n",
      "Elizabeth Warren's negative tweets percentage: 18.75 %\n",
      "-----------------------------------------------------\n",
      "|||||||||||||||||||||||||||||||||||||||||||||||||||||\n",
      "-----------------------------------------------------\n",
      "Bernie Sanders's positive tweets percentage: 25.0 %\n",
      "Bernie Sanders's negative tweets percentage: 10.0 %\n",
      "-----------------------------------------------------\n",
      "|||||||||||||||||||||||||||||||||||||||||||||||||||||\n",
      "-----------------------------------------------------\n",
      "Pete Buttigieg's positive tweets percentage: 34.48275862068966 %\n",
      "Pete Buttigieg's negative tweets percentage: 29.310344827586206 %\n",
      "-----------------------------------------------------\n",
      "|||||||||||||||||||||||||||||||||||||||||||||||||||||\n",
      "-----------------------------------------------------\n",
      "Tulsi Gabbard's positive tweets percentage: 30.76923076923077 %\n",
      "Tulsi Gabbard's negative tweets percentage: 18.46153846153846 %\n",
      "-----------------------------------------------------\n",
      "|||||||||||||||||||||||||||||||||||||||||||||||||||||\n",
      "-----------------------------------------------------\n",
      "Amy Klobuchar's positive tweets percentage: 36.734693877551024 %\n",
      "Amy Klobuchar's negative tweets percentage: 14.285714285714286 %\n",
      "-----------------------------------------------------\n",
      "|||||||||||||||||||||||||||||||||||||||||||||||||||||\n",
      "-----------------------------------------------------\n",
      "Kamala Harris's positive tweets percentage: 34.04255319148936 %\n",
      "Kamala Harris's negative tweets percentage: 34.04255319148936 %\n",
      "-----------------------------------------------------\n",
      "|||||||||||||||||||||||||||||||||||||||||||||||||||||\n",
      "-----------------------------------------------------\n",
      "Andrew Yang's positive tweets percentage: 41.07142857142857 %\n",
      "Andrew Yang's negative tweets percentage: 3.5714285714285716 %\n",
      "-----------------------------------------------------\n",
      "|||||||||||||||||||||||||||||||||||||||||||||||||||||\n",
      "-----------------------------------------------------\n",
      "Corey Booker's positive tweets percentage: 30.0 %\n",
      "Corey Booker's negative tweets percentage: 12.5 %\n",
      "-----------------------------------------------------\n",
      "|||||||||||||||||||||||||||||||||||||||||||||||||||||\n",
      "-----------------------------------------------------\n",
      "Michael Bloomberg's positive tweets percentage: 31.11111111111111 %\n",
      "Michael Bloomberg's negative tweets percentage: 37.77777777777778 %\n",
      "-----------------------------------------------------\n",
      "|||||||||||||||||||||||||||||||||||||||||||||||||||||\n",
      "-----------------------------------------------------\n",
      "Tom Steyer's positive tweets percentage: 37.5 %\n",
      "Tom Steyer's negative tweets percentage: 12.5 %\n",
      "-----------------------------------------------------\n",
      "|||||||||||||||||||||||||||||||||||||||||||||||||||||\n",
      "-----------------------------------------------------\n"
     ]
    }
   ],
   "source": [
    "for targetName in targetNameList:\n",
    "    reportPositiveAndNegativeTweetPercentage(targetName)\n",
    "    print('-----------------------------------------------------')\n",
    "    print('|||||||||||||||||||||||||||||||||||||||||||||||||||||')\n",
    "    print('-----------------------------------------------------')"
   ]
  },
  {
   "cell_type": "code",
   "execution_count": 13,
   "metadata": {},
   "outputs": [],
   "source": []
  },
  {
   "cell_type": "code",
   "execution_count": 36,
   "metadata": {},
   "outputs": [],
   "source": [
    "targetNameList = [\n",
    "    'Donald Trump',\n",
    "    'Joe Biden',\n",
    "    'Elizabeth Warren',\n",
    "    'Bernie Sanders',\n",
    "    'Pete Buttigieg',\n",
    "    'Tulsi Gabbard',\n",
    "    'Amy Klobuchar',\n",
    "    'Kamala Harris',\n",
    "    'Andrew Yang',\n",
    "    'Corey Booker',\n",
    "    'Michael Bloomberg',\n",
    "    'Tom Steyer'\n",
    "]"
   ]
  },
  {
   "cell_type": "code",
   "execution_count": 37,
   "metadata": {},
   "outputs": [],
   "source": [
    "presidentialCandidateSentimentTracker = {\n",
    "    'name': [],\n",
    "    'timestamp': [],\n",
    "    'Positive Sentiment Percentage': [],\n",
    "    'Negative Sentiment Percentage': []\n",
    "}"
   ]
  },
  {
   "cell_type": "code",
   "execution_count": 38,
   "metadata": {},
   "outputs": [],
   "source": [
    "def recordPositiveTweetPercentage(targetName): \n",
    "    # creating object of TwitterClient Class \n",
    "    api = TwitterClient() \n",
    "    # calling function to get tweets \n",
    "    tweets = api.get_tweets(query = targetName, count = 200) \n",
    "  \n",
    "    # picking positive tweets from tweets \n",
    "    posTweets = [tweet for tweet in tweets if tweet['sentiment'] == 'positive'] \n",
    "    # percentage of positive tweets \n",
    "    posTweetsPercentage = 100*len(posTweets)/len(tweets)\n",
    "    \n",
    "    return posTweetsPercentage\n",
    "    "
   ]
  },
  {
   "cell_type": "code",
   "execution_count": 39,
   "metadata": {},
   "outputs": [],
   "source": [
    "def recordNegativeTweetPercentage(targetName):\n",
    "    # creating object of TwitterClient Class \n",
    "    api = TwitterClient() \n",
    "    # calling function to get tweets \n",
    "    tweets = api.get_tweets(query = targetName, count = 200) \n",
    "    \n",
    "    # picking negative tweets from tweets \n",
    "    negTweets = [tweet for tweet in tweets if tweet['sentiment'] == 'negative'] \n",
    "    # percentage of negative tweets \n",
    "    negTweetsPercentage = 100*len(negTweets)/len(tweets)\n",
    "    \n",
    "    return negTweetsPercentage"
   ]
  },
  {
   "cell_type": "code",
   "execution_count": 40,
   "metadata": {},
   "outputs": [],
   "source": [
    "actionCounter = 0"
   ]
  },
  {
   "cell_type": "code",
   "execution_count": 41,
   "metadata": {},
   "outputs": [],
   "source": [
    "import time as t\n",
    "from datetime import datetime\n",
    "import pandas"
   ]
  },
  {
   "cell_type": "code",
   "execution_count": 42,
   "metadata": {},
   "outputs": [
    {
     "name": "stdout",
     "output_type": "stream",
     "text": [
      "{'name': ['Donald Trump', 'Joe Biden', 'Elizabeth Warren', 'Bernie Sanders', 'Pete Buttigieg', 'Tulsi Gabbard', 'Amy Klobuchar', 'Kamala Harris', 'Andrew Yang', 'Corey Booker', 'Michael Bloomberg', 'Tom Steyer'], 'timestamp': [datetime.datetime(2019, 11, 20, 21, 52, 31, 371023), datetime.datetime(2019, 11, 20, 21, 52, 32, 800462), datetime.datetime(2019, 11, 20, 21, 52, 34, 213570), datetime.datetime(2019, 11, 20, 21, 52, 35, 669507), datetime.datetime(2019, 11, 20, 21, 52, 37, 349844), datetime.datetime(2019, 11, 20, 21, 52, 38, 678261), datetime.datetime(2019, 11, 20, 21, 52, 40, 187704), datetime.datetime(2019, 11, 20, 21, 52, 41, 694149), datetime.datetime(2019, 11, 20, 21, 52, 43, 240999), datetime.datetime(2019, 11, 20, 21, 52, 44, 680465), datetime.datetime(2019, 11, 20, 21, 52, 46, 38206), datetime.datetime(2019, 11, 20, 21, 52, 47, 414074)], 'Positive Sentiment Percentage': [27.419354838709676, 28.0, 34.24657534246575, 35.483870967741936, 40.0, 23.333333333333332, 32.0, 19.35483870967742, 44.44444444444444, 53.7037037037037, 50.0, 37.28813559322034], 'Negative Sentiment Percentage': [12.698412698412698, 25.675675675675677, 19.17808219178082, 17.741935483870968, 33.333333333333336, 18.64406779661017, 16.0, 39.682539682539684, 15.09433962264151, 22.22222222222222, 18.75, 23.728813559322035]}\n",
      "{'name': ['Donald Trump', 'Joe Biden', 'Elizabeth Warren', 'Bernie Sanders', 'Pete Buttigieg', 'Tulsi Gabbard', 'Amy Klobuchar', 'Kamala Harris', 'Andrew Yang', 'Corey Booker', 'Michael Bloomberg', 'Tom Steyer', 'Donald Trump', 'Joe Biden', 'Elizabeth Warren', 'Bernie Sanders', 'Pete Buttigieg', 'Tulsi Gabbard', 'Amy Klobuchar', 'Kamala Harris', 'Andrew Yang', 'Corey Booker', 'Michael Bloomberg', 'Tom Steyer'], 'timestamp': [datetime.datetime(2019, 11, 20, 21, 52, 31, 371023), datetime.datetime(2019, 11, 20, 21, 52, 32, 800462), datetime.datetime(2019, 11, 20, 21, 52, 34, 213570), datetime.datetime(2019, 11, 20, 21, 52, 35, 669507), datetime.datetime(2019, 11, 20, 21, 52, 37, 349844), datetime.datetime(2019, 11, 20, 21, 52, 38, 678261), datetime.datetime(2019, 11, 20, 21, 52, 40, 187704), datetime.datetime(2019, 11, 20, 21, 52, 41, 694149), datetime.datetime(2019, 11, 20, 21, 52, 43, 240999), datetime.datetime(2019, 11, 20, 21, 52, 44, 680465), datetime.datetime(2019, 11, 20, 21, 52, 46, 38206), datetime.datetime(2019, 11, 20, 21, 52, 47, 414074), datetime.datetime(2019, 11, 20, 22, 2, 48, 822435), datetime.datetime(2019, 11, 20, 22, 2, 50, 76716), datetime.datetime(2019, 11, 20, 22, 2, 51, 538034), datetime.datetime(2019, 11, 20, 22, 2, 52, 902971), datetime.datetime(2019, 11, 20, 22, 2, 54, 427637), datetime.datetime(2019, 11, 20, 22, 2, 55, 694670), datetime.datetime(2019, 11, 20, 22, 2, 57, 285242), datetime.datetime(2019, 11, 20, 22, 2, 58, 688369), datetime.datetime(2019, 11, 20, 22, 3, 0, 8060), datetime.datetime(2019, 11, 20, 22, 3, 1, 292116), datetime.datetime(2019, 11, 20, 22, 3, 2, 939730), datetime.datetime(2019, 11, 20, 22, 3, 4, 319936)], 'Positive Sentiment Percentage': [27.419354838709676, 28.0, 34.24657534246575, 35.483870967741936, 40.0, 23.333333333333332, 32.0, 19.35483870967742, 44.44444444444444, 53.7037037037037, 50.0, 37.28813559322034, 34.24657534246575, 25.806451612903224, 34.69387755102041, 36.8421052631579, 33.8235294117647, 25.925925925925927, 24.074074074074073, 24.285714285714285, 49.01960784313726, 47.82608695652174, 38.46153846153846, 28.235294117647058], 'Negative Sentiment Percentage': [12.698412698412698, 25.675675675675677, 19.17808219178082, 17.741935483870968, 33.333333333333336, 18.64406779661017, 16.0, 39.682539682539684, 15.09433962264151, 22.22222222222222, 18.75, 23.728813559322035, 17.80821917808219, 35.9375, 16.3265306122449, 19.736842105263158, 23.880597014925375, 26.25, 20.37037037037037, 37.142857142857146, 25.0, 26.08695652173913, 15.384615384615385, 19.27710843373494]}\n",
      "{'name': ['Donald Trump', 'Joe Biden', 'Elizabeth Warren', 'Bernie Sanders', 'Pete Buttigieg', 'Tulsi Gabbard', 'Amy Klobuchar', 'Kamala Harris', 'Andrew Yang', 'Corey Booker', 'Michael Bloomberg', 'Tom Steyer', 'Donald Trump', 'Joe Biden', 'Elizabeth Warren', 'Bernie Sanders', 'Pete Buttigieg', 'Tulsi Gabbard', 'Amy Klobuchar', 'Kamala Harris', 'Andrew Yang', 'Corey Booker', 'Michael Bloomberg', 'Tom Steyer', 'Donald Trump', 'Joe Biden', 'Elizabeth Warren', 'Bernie Sanders', 'Pete Buttigieg', 'Tulsi Gabbard', 'Amy Klobuchar', 'Kamala Harris', 'Andrew Yang', 'Corey Booker', 'Michael Bloomberg', 'Tom Steyer'], 'timestamp': [datetime.datetime(2019, 11, 20, 21, 52, 31, 371023), datetime.datetime(2019, 11, 20, 21, 52, 32, 800462), datetime.datetime(2019, 11, 20, 21, 52, 34, 213570), datetime.datetime(2019, 11, 20, 21, 52, 35, 669507), datetime.datetime(2019, 11, 20, 21, 52, 37, 349844), datetime.datetime(2019, 11, 20, 21, 52, 38, 678261), datetime.datetime(2019, 11, 20, 21, 52, 40, 187704), datetime.datetime(2019, 11, 20, 21, 52, 41, 694149), datetime.datetime(2019, 11, 20, 21, 52, 43, 240999), datetime.datetime(2019, 11, 20, 21, 52, 44, 680465), datetime.datetime(2019, 11, 20, 21, 52, 46, 38206), datetime.datetime(2019, 11, 20, 21, 52, 47, 414074), datetime.datetime(2019, 11, 20, 22, 2, 48, 822435), datetime.datetime(2019, 11, 20, 22, 2, 50, 76716), datetime.datetime(2019, 11, 20, 22, 2, 51, 538034), datetime.datetime(2019, 11, 20, 22, 2, 52, 902971), datetime.datetime(2019, 11, 20, 22, 2, 54, 427637), datetime.datetime(2019, 11, 20, 22, 2, 55, 694670), datetime.datetime(2019, 11, 20, 22, 2, 57, 285242), datetime.datetime(2019, 11, 20, 22, 2, 58, 688369), datetime.datetime(2019, 11, 20, 22, 3, 0, 8060), datetime.datetime(2019, 11, 20, 22, 3, 1, 292116), datetime.datetime(2019, 11, 20, 22, 3, 2, 939730), datetime.datetime(2019, 11, 20, 22, 3, 4, 319936), datetime.datetime(2019, 11, 20, 22, 13, 5, 555369), datetime.datetime(2019, 11, 20, 22, 13, 6, 904618), datetime.datetime(2019, 11, 20, 22, 13, 8, 219246), datetime.datetime(2019, 11, 20, 22, 13, 9, 567914), datetime.datetime(2019, 11, 20, 22, 13, 10, 984172), datetime.datetime(2019, 11, 20, 22, 13, 12, 317247), datetime.datetime(2019, 11, 20, 22, 13, 13, 782966), datetime.datetime(2019, 11, 20, 22, 13, 14, 910944), datetime.datetime(2019, 11, 20, 22, 13, 16, 373794), datetime.datetime(2019, 11, 20, 22, 13, 17, 798570), datetime.datetime(2019, 11, 20, 22, 13, 19, 43579), datetime.datetime(2019, 11, 20, 22, 13, 20, 353825)], 'Positive Sentiment Percentage': [27.419354838709676, 28.0, 34.24657534246575, 35.483870967741936, 40.0, 23.333333333333332, 32.0, 19.35483870967742, 44.44444444444444, 53.7037037037037, 50.0, 37.28813559322034, 34.24657534246575, 25.806451612903224, 34.69387755102041, 36.8421052631579, 33.8235294117647, 25.925925925925927, 24.074074074074073, 24.285714285714285, 49.01960784313726, 47.82608695652174, 38.46153846153846, 28.235294117647058, 32.89473684210526, 31.944444444444443, 37.096774193548384, 29.62962962962963, 38.983050847457626, 40.816326530612244, 37.5, 28.125, 52.23880597014925, 54.6875, 46.666666666666664, 44.23076923076923], 'Negative Sentiment Percentage': [12.698412698412698, 25.675675675675677, 19.17808219178082, 17.741935483870968, 33.333333333333336, 18.64406779661017, 16.0, 39.682539682539684, 15.09433962264151, 22.22222222222222, 18.75, 23.728813559322035, 17.80821917808219, 35.9375, 16.3265306122449, 19.736842105263158, 23.880597014925375, 26.25, 20.37037037037037, 37.142857142857146, 25.0, 26.08695652173913, 15.384615384615385, 19.27710843373494, 16.417910447761194, 23.943661971830984, 22.580645161290324, 25.0, 23.728813559322035, 21.153846153846153, 25.0, 31.746031746031747, 8.571428571428571, 15.625, 20.0, 24.489795918367346]}\n",
      "{'name': ['Donald Trump', 'Joe Biden', 'Elizabeth Warren', 'Bernie Sanders', 'Pete Buttigieg', 'Tulsi Gabbard', 'Amy Klobuchar', 'Kamala Harris', 'Andrew Yang', 'Corey Booker', 'Michael Bloomberg', 'Tom Steyer', 'Donald Trump', 'Joe Biden', 'Elizabeth Warren', 'Bernie Sanders', 'Pete Buttigieg', 'Tulsi Gabbard', 'Amy Klobuchar', 'Kamala Harris', 'Andrew Yang', 'Corey Booker', 'Michael Bloomberg', 'Tom Steyer', 'Donald Trump', 'Joe Biden', 'Elizabeth Warren', 'Bernie Sanders', 'Pete Buttigieg', 'Tulsi Gabbard', 'Amy Klobuchar', 'Kamala Harris', 'Andrew Yang', 'Corey Booker', 'Michael Bloomberg', 'Tom Steyer', 'Donald Trump', 'Joe Biden', 'Elizabeth Warren', 'Bernie Sanders', 'Pete Buttigieg', 'Tulsi Gabbard', 'Amy Klobuchar', 'Kamala Harris', 'Andrew Yang', 'Corey Booker', 'Michael Bloomberg', 'Tom Steyer'], 'timestamp': [datetime.datetime(2019, 11, 20, 21, 52, 31, 371023), datetime.datetime(2019, 11, 20, 21, 52, 32, 800462), datetime.datetime(2019, 11, 20, 21, 52, 34, 213570), datetime.datetime(2019, 11, 20, 21, 52, 35, 669507), datetime.datetime(2019, 11, 20, 21, 52, 37, 349844), datetime.datetime(2019, 11, 20, 21, 52, 38, 678261), datetime.datetime(2019, 11, 20, 21, 52, 40, 187704), datetime.datetime(2019, 11, 20, 21, 52, 41, 694149), datetime.datetime(2019, 11, 20, 21, 52, 43, 240999), datetime.datetime(2019, 11, 20, 21, 52, 44, 680465), datetime.datetime(2019, 11, 20, 21, 52, 46, 38206), datetime.datetime(2019, 11, 20, 21, 52, 47, 414074), datetime.datetime(2019, 11, 20, 22, 2, 48, 822435), datetime.datetime(2019, 11, 20, 22, 2, 50, 76716), datetime.datetime(2019, 11, 20, 22, 2, 51, 538034), datetime.datetime(2019, 11, 20, 22, 2, 52, 902971), datetime.datetime(2019, 11, 20, 22, 2, 54, 427637), datetime.datetime(2019, 11, 20, 22, 2, 55, 694670), datetime.datetime(2019, 11, 20, 22, 2, 57, 285242), datetime.datetime(2019, 11, 20, 22, 2, 58, 688369), datetime.datetime(2019, 11, 20, 22, 3, 0, 8060), datetime.datetime(2019, 11, 20, 22, 3, 1, 292116), datetime.datetime(2019, 11, 20, 22, 3, 2, 939730), datetime.datetime(2019, 11, 20, 22, 3, 4, 319936), datetime.datetime(2019, 11, 20, 22, 13, 5, 555369), datetime.datetime(2019, 11, 20, 22, 13, 6, 904618), datetime.datetime(2019, 11, 20, 22, 13, 8, 219246), datetime.datetime(2019, 11, 20, 22, 13, 9, 567914), datetime.datetime(2019, 11, 20, 22, 13, 10, 984172), datetime.datetime(2019, 11, 20, 22, 13, 12, 317247), datetime.datetime(2019, 11, 20, 22, 13, 13, 782966), datetime.datetime(2019, 11, 20, 22, 13, 14, 910944), datetime.datetime(2019, 11, 20, 22, 13, 16, 373794), datetime.datetime(2019, 11, 20, 22, 13, 17, 798570), datetime.datetime(2019, 11, 20, 22, 13, 19, 43579), datetime.datetime(2019, 11, 20, 22, 13, 20, 353825), datetime.datetime(2019, 11, 20, 22, 23, 21, 643230), datetime.datetime(2019, 11, 20, 22, 23, 23, 130397), datetime.datetime(2019, 11, 20, 22, 23, 24, 745045), datetime.datetime(2019, 11, 20, 22, 23, 26, 69165), datetime.datetime(2019, 11, 20, 22, 23, 27, 563050), datetime.datetime(2019, 11, 20, 22, 23, 28, 903375), datetime.datetime(2019, 11, 20, 22, 23, 30, 230534), datetime.datetime(2019, 11, 20, 22, 23, 31, 626915), datetime.datetime(2019, 11, 20, 22, 23, 33, 126000), datetime.datetime(2019, 11, 20, 22, 23, 34, 511916), datetime.datetime(2019, 11, 20, 22, 23, 35, 947661), datetime.datetime(2019, 11, 20, 22, 23, 37, 208045)], 'Positive Sentiment Percentage': [27.419354838709676, 28.0, 34.24657534246575, 35.483870967741936, 40.0, 23.333333333333332, 32.0, 19.35483870967742, 44.44444444444444, 53.7037037037037, 50.0, 37.28813559322034, 34.24657534246575, 25.806451612903224, 34.69387755102041, 36.8421052631579, 33.8235294117647, 25.925925925925927, 24.074074074074073, 24.285714285714285, 49.01960784313726, 47.82608695652174, 38.46153846153846, 28.235294117647058, 32.89473684210526, 31.944444444444443, 37.096774193548384, 29.62962962962963, 38.983050847457626, 40.816326530612244, 37.5, 28.125, 52.23880597014925, 54.6875, 46.666666666666664, 44.23076923076923, 25.35211267605634, 26.760563380281692, 41.935483870967744, 36.8421052631579, 33.78378378378378, 44.067796610169495, 36.206896551724135, 27.868852459016395, 46.55172413793103, 43.13725490196079, 52.63157894736842, 34.48275862068966], 'Negative Sentiment Percentage': [12.698412698412698, 25.675675675675677, 19.17808219178082, 17.741935483870968, 33.333333333333336, 18.64406779661017, 16.0, 39.682539682539684, 15.09433962264151, 22.22222222222222, 18.75, 23.728813559322035, 17.80821917808219, 35.9375, 16.3265306122449, 19.736842105263158, 23.880597014925375, 26.25, 20.37037037037037, 37.142857142857146, 25.0, 26.08695652173913, 15.384615384615385, 19.27710843373494, 16.417910447761194, 23.943661971830984, 22.580645161290324, 25.0, 23.728813559322035, 21.153846153846153, 25.0, 31.746031746031747, 8.571428571428571, 15.625, 20.0, 24.489795918367346, 21.12676056338028, 23.943661971830984, 15.625, 14.102564102564102, 21.91780821917808, 17.24137931034483, 18.64406779661017, 24.59016393442623, 15.789473684210526, 17.647058823529413, 15.789473684210526, 20.689655172413794]}\n"
     ]
    },
    {
     "name": "stdout",
     "output_type": "stream",
     "text": [
      "{'name': ['Donald Trump', 'Joe Biden', 'Elizabeth Warren', 'Bernie Sanders', 'Pete Buttigieg', 'Tulsi Gabbard', 'Amy Klobuchar', 'Kamala Harris', 'Andrew Yang', 'Corey Booker', 'Michael Bloomberg', 'Tom Steyer', 'Donald Trump', 'Joe Biden', 'Elizabeth Warren', 'Bernie Sanders', 'Pete Buttigieg', 'Tulsi Gabbard', 'Amy Klobuchar', 'Kamala Harris', 'Andrew Yang', 'Corey Booker', 'Michael Bloomberg', 'Tom Steyer', 'Donald Trump', 'Joe Biden', 'Elizabeth Warren', 'Bernie Sanders', 'Pete Buttigieg', 'Tulsi Gabbard', 'Amy Klobuchar', 'Kamala Harris', 'Andrew Yang', 'Corey Booker', 'Michael Bloomberg', 'Tom Steyer', 'Donald Trump', 'Joe Biden', 'Elizabeth Warren', 'Bernie Sanders', 'Pete Buttigieg', 'Tulsi Gabbard', 'Amy Klobuchar', 'Kamala Harris', 'Andrew Yang', 'Corey Booker', 'Michael Bloomberg', 'Tom Steyer', 'Donald Trump', 'Joe Biden', 'Elizabeth Warren', 'Bernie Sanders', 'Pete Buttigieg', 'Tulsi Gabbard', 'Amy Klobuchar', 'Kamala Harris', 'Andrew Yang', 'Corey Booker', 'Michael Bloomberg', 'Tom Steyer'], 'timestamp': [datetime.datetime(2019, 11, 20, 21, 52, 31, 371023), datetime.datetime(2019, 11, 20, 21, 52, 32, 800462), datetime.datetime(2019, 11, 20, 21, 52, 34, 213570), datetime.datetime(2019, 11, 20, 21, 52, 35, 669507), datetime.datetime(2019, 11, 20, 21, 52, 37, 349844), datetime.datetime(2019, 11, 20, 21, 52, 38, 678261), datetime.datetime(2019, 11, 20, 21, 52, 40, 187704), datetime.datetime(2019, 11, 20, 21, 52, 41, 694149), datetime.datetime(2019, 11, 20, 21, 52, 43, 240999), datetime.datetime(2019, 11, 20, 21, 52, 44, 680465), datetime.datetime(2019, 11, 20, 21, 52, 46, 38206), datetime.datetime(2019, 11, 20, 21, 52, 47, 414074), datetime.datetime(2019, 11, 20, 22, 2, 48, 822435), datetime.datetime(2019, 11, 20, 22, 2, 50, 76716), datetime.datetime(2019, 11, 20, 22, 2, 51, 538034), datetime.datetime(2019, 11, 20, 22, 2, 52, 902971), datetime.datetime(2019, 11, 20, 22, 2, 54, 427637), datetime.datetime(2019, 11, 20, 22, 2, 55, 694670), datetime.datetime(2019, 11, 20, 22, 2, 57, 285242), datetime.datetime(2019, 11, 20, 22, 2, 58, 688369), datetime.datetime(2019, 11, 20, 22, 3, 0, 8060), datetime.datetime(2019, 11, 20, 22, 3, 1, 292116), datetime.datetime(2019, 11, 20, 22, 3, 2, 939730), datetime.datetime(2019, 11, 20, 22, 3, 4, 319936), datetime.datetime(2019, 11, 20, 22, 13, 5, 555369), datetime.datetime(2019, 11, 20, 22, 13, 6, 904618), datetime.datetime(2019, 11, 20, 22, 13, 8, 219246), datetime.datetime(2019, 11, 20, 22, 13, 9, 567914), datetime.datetime(2019, 11, 20, 22, 13, 10, 984172), datetime.datetime(2019, 11, 20, 22, 13, 12, 317247), datetime.datetime(2019, 11, 20, 22, 13, 13, 782966), datetime.datetime(2019, 11, 20, 22, 13, 14, 910944), datetime.datetime(2019, 11, 20, 22, 13, 16, 373794), datetime.datetime(2019, 11, 20, 22, 13, 17, 798570), datetime.datetime(2019, 11, 20, 22, 13, 19, 43579), datetime.datetime(2019, 11, 20, 22, 13, 20, 353825), datetime.datetime(2019, 11, 20, 22, 23, 21, 643230), datetime.datetime(2019, 11, 20, 22, 23, 23, 130397), datetime.datetime(2019, 11, 20, 22, 23, 24, 745045), datetime.datetime(2019, 11, 20, 22, 23, 26, 69165), datetime.datetime(2019, 11, 20, 22, 23, 27, 563050), datetime.datetime(2019, 11, 20, 22, 23, 28, 903375), datetime.datetime(2019, 11, 20, 22, 23, 30, 230534), datetime.datetime(2019, 11, 20, 22, 23, 31, 626915), datetime.datetime(2019, 11, 20, 22, 23, 33, 126000), datetime.datetime(2019, 11, 20, 22, 23, 34, 511916), datetime.datetime(2019, 11, 20, 22, 23, 35, 947661), datetime.datetime(2019, 11, 20, 22, 23, 37, 208045), datetime.datetime(2019, 11, 20, 22, 33, 38, 604172), datetime.datetime(2019, 11, 20, 22, 33, 39, 992867), datetime.datetime(2019, 11, 20, 22, 33, 41, 328085), datetime.datetime(2019, 11, 20, 22, 33, 42, 741189), datetime.datetime(2019, 11, 20, 22, 33, 44, 61301), datetime.datetime(2019, 11, 20, 22, 33, 45, 543108), datetime.datetime(2019, 11, 20, 22, 33, 46, 963676), datetime.datetime(2019, 11, 20, 22, 33, 48, 244718), datetime.datetime(2019, 11, 20, 22, 33, 49, 639555), datetime.datetime(2019, 11, 20, 22, 33, 50, 978143), datetime.datetime(2019, 11, 20, 22, 33, 52, 270348), datetime.datetime(2019, 11, 20, 22, 33, 53, 461537)], 'Positive Sentiment Percentage': [27.419354838709676, 28.0, 34.24657534246575, 35.483870967741936, 40.0, 23.333333333333332, 32.0, 19.35483870967742, 44.44444444444444, 53.7037037037037, 50.0, 37.28813559322034, 34.24657534246575, 25.806451612903224, 34.69387755102041, 36.8421052631579, 33.8235294117647, 25.925925925925927, 24.074074074074073, 24.285714285714285, 49.01960784313726, 47.82608695652174, 38.46153846153846, 28.235294117647058, 32.89473684210526, 31.944444444444443, 37.096774193548384, 29.62962962962963, 38.983050847457626, 40.816326530612244, 37.5, 28.125, 52.23880597014925, 54.6875, 46.666666666666664, 44.23076923076923, 25.35211267605634, 26.760563380281692, 41.935483870967744, 36.8421052631579, 33.78378378378378, 44.067796610169495, 36.206896551724135, 27.868852459016395, 46.55172413793103, 43.13725490196079, 52.63157894736842, 34.48275862068966, 38.80597014925373, 34.146341463414636, 46.875, 37.5, 38.983050847457626, 34.04255319148936, 45.45454545454545, 39.0625, 47.82608695652174, 49.01960784313726, 47.36842105263158, 40.0], 'Negative Sentiment Percentage': [12.698412698412698, 25.675675675675677, 19.17808219178082, 17.741935483870968, 33.333333333333336, 18.64406779661017, 16.0, 39.682539682539684, 15.09433962264151, 22.22222222222222, 18.75, 23.728813559322035, 17.80821917808219, 35.9375, 16.3265306122449, 19.736842105263158, 23.880597014925375, 26.25, 20.37037037037037, 37.142857142857146, 25.0, 26.08695652173913, 15.384615384615385, 19.27710843373494, 16.417910447761194, 23.943661971830984, 22.580645161290324, 25.0, 23.728813559322035, 21.153846153846153, 25.0, 31.746031746031747, 8.571428571428571, 15.625, 20.0, 24.489795918367346, 21.12676056338028, 23.943661971830984, 15.625, 14.102564102564102, 21.91780821917808, 17.24137931034483, 18.64406779661017, 24.59016393442623, 15.789473684210526, 17.647058823529413, 15.789473684210526, 20.689655172413794, 20.895522388059703, 25.0, 18.75, 19.642857142857142, 26.666666666666668, 25.53191489361702, 14.285714285714286, 19.047619047619047, 20.28985507246377, 21.568627450980394, 5.2631578947368425, 20.0]}\n",
      "{'name': ['Donald Trump', 'Joe Biden', 'Elizabeth Warren', 'Bernie Sanders', 'Pete Buttigieg', 'Tulsi Gabbard', 'Amy Klobuchar', 'Kamala Harris', 'Andrew Yang', 'Corey Booker', 'Michael Bloomberg', 'Tom Steyer', 'Donald Trump', 'Joe Biden', 'Elizabeth Warren', 'Bernie Sanders', 'Pete Buttigieg', 'Tulsi Gabbard', 'Amy Klobuchar', 'Kamala Harris', 'Andrew Yang', 'Corey Booker', 'Michael Bloomberg', 'Tom Steyer', 'Donald Trump', 'Joe Biden', 'Elizabeth Warren', 'Bernie Sanders', 'Pete Buttigieg', 'Tulsi Gabbard', 'Amy Klobuchar', 'Kamala Harris', 'Andrew Yang', 'Corey Booker', 'Michael Bloomberg', 'Tom Steyer', 'Donald Trump', 'Joe Biden', 'Elizabeth Warren', 'Bernie Sanders', 'Pete Buttigieg', 'Tulsi Gabbard', 'Amy Klobuchar', 'Kamala Harris', 'Andrew Yang', 'Corey Booker', 'Michael Bloomberg', 'Tom Steyer', 'Donald Trump', 'Joe Biden', 'Elizabeth Warren', 'Bernie Sanders', 'Pete Buttigieg', 'Tulsi Gabbard', 'Amy Klobuchar', 'Kamala Harris', 'Andrew Yang', 'Corey Booker', 'Michael Bloomberg', 'Tom Steyer', 'Donald Trump', 'Joe Biden', 'Elizabeth Warren', 'Bernie Sanders', 'Pete Buttigieg', 'Tulsi Gabbard', 'Amy Klobuchar', 'Kamala Harris', 'Andrew Yang', 'Corey Booker', 'Michael Bloomberg', 'Tom Steyer'], 'timestamp': [datetime.datetime(2019, 11, 20, 21, 52, 31, 371023), datetime.datetime(2019, 11, 20, 21, 52, 32, 800462), datetime.datetime(2019, 11, 20, 21, 52, 34, 213570), datetime.datetime(2019, 11, 20, 21, 52, 35, 669507), datetime.datetime(2019, 11, 20, 21, 52, 37, 349844), datetime.datetime(2019, 11, 20, 21, 52, 38, 678261), datetime.datetime(2019, 11, 20, 21, 52, 40, 187704), datetime.datetime(2019, 11, 20, 21, 52, 41, 694149), datetime.datetime(2019, 11, 20, 21, 52, 43, 240999), datetime.datetime(2019, 11, 20, 21, 52, 44, 680465), datetime.datetime(2019, 11, 20, 21, 52, 46, 38206), datetime.datetime(2019, 11, 20, 21, 52, 47, 414074), datetime.datetime(2019, 11, 20, 22, 2, 48, 822435), datetime.datetime(2019, 11, 20, 22, 2, 50, 76716), datetime.datetime(2019, 11, 20, 22, 2, 51, 538034), datetime.datetime(2019, 11, 20, 22, 2, 52, 902971), datetime.datetime(2019, 11, 20, 22, 2, 54, 427637), datetime.datetime(2019, 11, 20, 22, 2, 55, 694670), datetime.datetime(2019, 11, 20, 22, 2, 57, 285242), datetime.datetime(2019, 11, 20, 22, 2, 58, 688369), datetime.datetime(2019, 11, 20, 22, 3, 0, 8060), datetime.datetime(2019, 11, 20, 22, 3, 1, 292116), datetime.datetime(2019, 11, 20, 22, 3, 2, 939730), datetime.datetime(2019, 11, 20, 22, 3, 4, 319936), datetime.datetime(2019, 11, 20, 22, 13, 5, 555369), datetime.datetime(2019, 11, 20, 22, 13, 6, 904618), datetime.datetime(2019, 11, 20, 22, 13, 8, 219246), datetime.datetime(2019, 11, 20, 22, 13, 9, 567914), datetime.datetime(2019, 11, 20, 22, 13, 10, 984172), datetime.datetime(2019, 11, 20, 22, 13, 12, 317247), datetime.datetime(2019, 11, 20, 22, 13, 13, 782966), datetime.datetime(2019, 11, 20, 22, 13, 14, 910944), datetime.datetime(2019, 11, 20, 22, 13, 16, 373794), datetime.datetime(2019, 11, 20, 22, 13, 17, 798570), datetime.datetime(2019, 11, 20, 22, 13, 19, 43579), datetime.datetime(2019, 11, 20, 22, 13, 20, 353825), datetime.datetime(2019, 11, 20, 22, 23, 21, 643230), datetime.datetime(2019, 11, 20, 22, 23, 23, 130397), datetime.datetime(2019, 11, 20, 22, 23, 24, 745045), datetime.datetime(2019, 11, 20, 22, 23, 26, 69165), datetime.datetime(2019, 11, 20, 22, 23, 27, 563050), datetime.datetime(2019, 11, 20, 22, 23, 28, 903375), datetime.datetime(2019, 11, 20, 22, 23, 30, 230534), datetime.datetime(2019, 11, 20, 22, 23, 31, 626915), datetime.datetime(2019, 11, 20, 22, 23, 33, 126000), datetime.datetime(2019, 11, 20, 22, 23, 34, 511916), datetime.datetime(2019, 11, 20, 22, 23, 35, 947661), datetime.datetime(2019, 11, 20, 22, 23, 37, 208045), datetime.datetime(2019, 11, 20, 22, 33, 38, 604172), datetime.datetime(2019, 11, 20, 22, 33, 39, 992867), datetime.datetime(2019, 11, 20, 22, 33, 41, 328085), datetime.datetime(2019, 11, 20, 22, 33, 42, 741189), datetime.datetime(2019, 11, 20, 22, 33, 44, 61301), datetime.datetime(2019, 11, 20, 22, 33, 45, 543108), datetime.datetime(2019, 11, 20, 22, 33, 46, 963676), datetime.datetime(2019, 11, 20, 22, 33, 48, 244718), datetime.datetime(2019, 11, 20, 22, 33, 49, 639555), datetime.datetime(2019, 11, 20, 22, 33, 50, 978143), datetime.datetime(2019, 11, 20, 22, 33, 52, 270348), datetime.datetime(2019, 11, 20, 22, 33, 53, 461537), datetime.datetime(2019, 11, 20, 22, 43, 54, 828467), datetime.datetime(2019, 11, 20, 22, 43, 56, 181446), datetime.datetime(2019, 11, 20, 22, 43, 57, 471077), datetime.datetime(2019, 11, 20, 22, 43, 59, 38488), datetime.datetime(2019, 11, 20, 22, 44, 0, 549075), datetime.datetime(2019, 11, 20, 22, 44, 2, 52408), datetime.datetime(2019, 11, 20, 22, 44, 3, 718148), datetime.datetime(2019, 11, 20, 22, 44, 5, 87092), datetime.datetime(2019, 11, 20, 22, 44, 6, 515015), datetime.datetime(2019, 11, 20, 22, 44, 7, 841940), datetime.datetime(2019, 11, 20, 22, 44, 9, 178765), datetime.datetime(2019, 11, 20, 22, 44, 10, 388147)], 'Positive Sentiment Percentage': [27.419354838709676, 28.0, 34.24657534246575, 35.483870967741936, 40.0, 23.333333333333332, 32.0, 19.35483870967742, 44.44444444444444, 53.7037037037037, 50.0, 37.28813559322034, 34.24657534246575, 25.806451612903224, 34.69387755102041, 36.8421052631579, 33.8235294117647, 25.925925925925927, 24.074074074074073, 24.285714285714285, 49.01960784313726, 47.82608695652174, 38.46153846153846, 28.235294117647058, 32.89473684210526, 31.944444444444443, 37.096774193548384, 29.62962962962963, 38.983050847457626, 40.816326530612244, 37.5, 28.125, 52.23880597014925, 54.6875, 46.666666666666664, 44.23076923076923, 25.35211267605634, 26.760563380281692, 41.935483870967744, 36.8421052631579, 33.78378378378378, 44.067796610169495, 36.206896551724135, 27.868852459016395, 46.55172413793103, 43.13725490196079, 52.63157894736842, 34.48275862068966, 38.80597014925373, 34.146341463414636, 46.875, 37.5, 38.983050847457626, 34.04255319148936, 45.45454545454545, 39.0625, 47.82608695652174, 49.01960784313726, 47.36842105263158, 40.0, 37.2093023255814, 25.0, 28.07017543859649, 34.375, 29.850746268656717, 36.36363636363637, 41.1764705882353, 27.77777777777778, 47.82608695652174, 57.89473684210526, 26.666666666666668, 48.888888888888886], 'Negative Sentiment Percentage': [12.698412698412698, 25.675675675675677, 19.17808219178082, 17.741935483870968, 33.333333333333336, 18.64406779661017, 16.0, 39.682539682539684, 15.09433962264151, 22.22222222222222, 18.75, 23.728813559322035, 17.80821917808219, 35.9375, 16.3265306122449, 19.736842105263158, 23.880597014925375, 26.25, 20.37037037037037, 37.142857142857146, 25.0, 26.08695652173913, 15.384615384615385, 19.27710843373494, 16.417910447761194, 23.943661971830984, 22.580645161290324, 25.0, 23.728813559322035, 21.153846153846153, 25.0, 31.746031746031747, 8.571428571428571, 15.625, 20.0, 24.489795918367346, 21.12676056338028, 23.943661971830984, 15.625, 14.102564102564102, 21.91780821917808, 17.24137931034483, 18.64406779661017, 24.59016393442623, 15.789473684210526, 17.647058823529413, 15.789473684210526, 20.689655172413794, 20.895522388059703, 25.0, 18.75, 19.642857142857142, 26.666666666666668, 25.53191489361702, 14.285714285714286, 19.047619047619047, 20.28985507246377, 21.568627450980394, 5.2631578947368425, 20.0, 13.953488372093023, 18.571428571428573, 24.137931034482758, 17.1875, 28.125, 25.0, 25.49019607843137, 20.754716981132077, 20.28985507246377, 15.789473684210526, 6.666666666666667, 13.333333333333334]}\n"
     ]
    }
   ],
   "source": [
    "while actionCounter != 6:\n",
    "    for target in targetNameList:\n",
    "            presidentialCandidateSentimentTracker['name'].append(target)\n",
    "            presidentialCandidateSentimentTracker['timestamp'].append(datetime.now())\n",
    "            presidentialCandidateSentimentTracker['Positive Sentiment Percentage'].append(recordPositiveTweetPercentage(target))\n",
    "            presidentialCandidateSentimentTracker['Negative Sentiment Percentage'].append(recordNegativeTweetPercentage(target))    \n",
    "    actionCounter+=1\n",
    "    print(presidentialCandidateSentimentTracker)\n",
    "    t.sleep(600)"
   ]
  },
  {
   "cell_type": "code",
   "execution_count": 58,
   "metadata": {},
   "outputs": [],
   "source": [
    "posSentimentList = []\n",
    "negSentimentList = []\n",
    "for entry in presidentialCandidateSentimentTracker:\n",
    "    posSentimentList.append(presidentialCandidateSentimentTracker[entry][0])\n",
    "    negSentimentList.append(presidentialCandidateSentimentTracker[entry][1])"
   ]
  },
  {
   "cell_type": "markdown",
   "metadata": {},
   "source": [
    "## Plotting"
   ]
  },
  {
   "cell_type": "code",
   "execution_count": 59,
   "metadata": {},
   "outputs": [],
   "source": [
    "import matplotlib.pyplot as plt"
   ]
  },
  {
   "cell_type": "code",
   "execution_count": 183,
   "metadata": {},
   "outputs": [
    {
     "data": {
      "text/plain": [
       "{'name': ['Donald Trump',\n",
       "  'Joe Biden',\n",
       "  'Elizabeth Warren',\n",
       "  'Bernie Sanders',\n",
       "  'Pete Buttigieg',\n",
       "  'Tulsi Gabbard',\n",
       "  'Amy Klobuchar',\n",
       "  'Kamala Harris',\n",
       "  'Andrew Yang',\n",
       "  'Corey Booker',\n",
       "  'Michael Bloomberg',\n",
       "  'Tom Steyer',\n",
       "  'Donald Trump',\n",
       "  'Joe Biden',\n",
       "  'Elizabeth Warren',\n",
       "  'Bernie Sanders',\n",
       "  'Pete Buttigieg',\n",
       "  'Tulsi Gabbard',\n",
       "  'Amy Klobuchar',\n",
       "  'Kamala Harris',\n",
       "  'Andrew Yang',\n",
       "  'Corey Booker',\n",
       "  'Michael Bloomberg',\n",
       "  'Tom Steyer',\n",
       "  'Donald Trump',\n",
       "  'Joe Biden',\n",
       "  'Elizabeth Warren',\n",
       "  'Bernie Sanders',\n",
       "  'Pete Buttigieg',\n",
       "  'Tulsi Gabbard',\n",
       "  'Amy Klobuchar',\n",
       "  'Kamala Harris',\n",
       "  'Andrew Yang',\n",
       "  'Corey Booker',\n",
       "  'Michael Bloomberg',\n",
       "  'Tom Steyer',\n",
       "  'Donald Trump',\n",
       "  'Joe Biden',\n",
       "  'Elizabeth Warren',\n",
       "  'Bernie Sanders',\n",
       "  'Pete Buttigieg',\n",
       "  'Tulsi Gabbard',\n",
       "  'Amy Klobuchar',\n",
       "  'Kamala Harris',\n",
       "  'Andrew Yang',\n",
       "  'Corey Booker',\n",
       "  'Michael Bloomberg',\n",
       "  'Tom Steyer',\n",
       "  'Donald Trump',\n",
       "  'Joe Biden',\n",
       "  'Elizabeth Warren',\n",
       "  'Bernie Sanders',\n",
       "  'Pete Buttigieg',\n",
       "  'Tulsi Gabbard',\n",
       "  'Amy Klobuchar',\n",
       "  'Kamala Harris',\n",
       "  'Andrew Yang',\n",
       "  'Corey Booker',\n",
       "  'Michael Bloomberg',\n",
       "  'Tom Steyer'],\n",
       " 'timestamp': [datetime.datetime(2019, 11, 17, 20, 44, 37, 303249),\n",
       "  datetime.datetime(2019, 11, 17, 20, 44, 38, 745918),\n",
       "  datetime.datetime(2019, 11, 17, 20, 44, 40, 226210),\n",
       "  datetime.datetime(2019, 11, 17, 20, 44, 41, 717354),\n",
       "  datetime.datetime(2019, 11, 17, 20, 44, 43, 125122),\n",
       "  datetime.datetime(2019, 11, 17, 20, 44, 44, 566210),\n",
       "  datetime.datetime(2019, 11, 17, 20, 44, 46, 160072),\n",
       "  datetime.datetime(2019, 11, 17, 20, 44, 47, 483908),\n",
       "  datetime.datetime(2019, 11, 17, 20, 44, 48, 870982),\n",
       "  datetime.datetime(2019, 11, 17, 20, 44, 50, 270945),\n",
       "  datetime.datetime(2019, 11, 17, 20, 44, 51, 559385),\n",
       "  datetime.datetime(2019, 11, 17, 20, 44, 53, 31591),\n",
       "  datetime.datetime(2019, 11, 17, 20, 54, 54, 505782),\n",
       "  datetime.datetime(2019, 11, 17, 20, 54, 55, 954565),\n",
       "  datetime.datetime(2019, 11, 17, 20, 54, 57, 463543),\n",
       "  datetime.datetime(2019, 11, 17, 20, 54, 59, 129771),\n",
       "  datetime.datetime(2019, 11, 17, 20, 55, 0, 589388),\n",
       "  datetime.datetime(2019, 11, 17, 20, 55, 2, 190905),\n",
       "  datetime.datetime(2019, 11, 17, 20, 55, 3, 609313),\n",
       "  datetime.datetime(2019, 11, 17, 20, 55, 5, 122952),\n",
       "  datetime.datetime(2019, 11, 17, 20, 55, 6, 593977),\n",
       "  datetime.datetime(2019, 11, 17, 20, 55, 8, 33902),\n",
       "  datetime.datetime(2019, 11, 17, 20, 55, 9, 325652),\n",
       "  datetime.datetime(2019, 11, 17, 20, 55, 10, 759602),\n",
       "  datetime.datetime(2019, 11, 17, 21, 5, 12, 222047),\n",
       "  datetime.datetime(2019, 11, 17, 21, 5, 13, 712128),\n",
       "  datetime.datetime(2019, 11, 17, 21, 5, 15, 179552),\n",
       "  datetime.datetime(2019, 11, 17, 21, 5, 16, 757518),\n",
       "  datetime.datetime(2019, 11, 17, 21, 5, 18, 205983),\n",
       "  datetime.datetime(2019, 11, 17, 21, 5, 19, 657768),\n",
       "  datetime.datetime(2019, 11, 17, 21, 5, 20, 994492),\n",
       "  datetime.datetime(2019, 11, 17, 21, 5, 22, 381017),\n",
       "  datetime.datetime(2019, 11, 17, 21, 5, 23, 792407),\n",
       "  datetime.datetime(2019, 11, 17, 21, 5, 25, 348067),\n",
       "  datetime.datetime(2019, 11, 17, 21, 5, 26, 609216),\n",
       "  datetime.datetime(2019, 11, 17, 21, 5, 28, 10948),\n",
       "  datetime.datetime(2019, 11, 17, 21, 15, 29, 409053),\n",
       "  datetime.datetime(2019, 11, 17, 21, 15, 30, 845627),\n",
       "  datetime.datetime(2019, 11, 17, 21, 15, 32, 299224),\n",
       "  datetime.datetime(2019, 11, 17, 21, 15, 33, 806651),\n",
       "  datetime.datetime(2019, 11, 17, 21, 15, 35, 240705),\n",
       "  datetime.datetime(2019, 11, 17, 21, 15, 36, 798511),\n",
       "  datetime.datetime(2019, 11, 17, 21, 15, 38, 251153),\n",
       "  datetime.datetime(2019, 11, 17, 21, 15, 39, 612634),\n",
       "  datetime.datetime(2019, 11, 17, 21, 15, 41, 224740),\n",
       "  datetime.datetime(2019, 11, 17, 21, 15, 43, 119216),\n",
       "  datetime.datetime(2019, 11, 17, 21, 15, 44, 609676),\n",
       "  datetime.datetime(2019, 11, 17, 21, 15, 46, 16977),\n",
       "  datetime.datetime(2019, 11, 17, 21, 25, 47, 402560),\n",
       "  datetime.datetime(2019, 11, 17, 21, 25, 48, 859139),\n",
       "  datetime.datetime(2019, 11, 17, 21, 25, 50, 541926),\n",
       "  datetime.datetime(2019, 11, 17, 21, 25, 52, 604442),\n",
       "  datetime.datetime(2019, 11, 17, 21, 25, 54, 69857),\n",
       "  datetime.datetime(2019, 11, 17, 21, 25, 55, 638404),\n",
       "  datetime.datetime(2019, 11, 17, 21, 25, 57, 433911),\n",
       "  datetime.datetime(2019, 11, 17, 21, 25, 58, 983517),\n",
       "  datetime.datetime(2019, 11, 17, 21, 26, 0, 433671),\n",
       "  datetime.datetime(2019, 11, 17, 21, 26, 2, 209071),\n",
       "  datetime.datetime(2019, 11, 17, 21, 26, 3, 505927),\n",
       "  datetime.datetime(2019, 11, 17, 21, 26, 4, 923160)],\n",
       " 'Positive Sentiment Percentage': [33.333333333333336,\n",
       "  31.25,\n",
       "  44.44444444444444,\n",
       "  33.333333333333336,\n",
       "  48.0,\n",
       "  36.76470588235294,\n",
       "  35.18518518518518,\n",
       "  33.333333333333336,\n",
       "  30.76923076923077,\n",
       "  35.483870967741936,\n",
       "  48.83720930232558,\n",
       "  24.193548387096776,\n",
       "  35.59322033898305,\n",
       "  31.372549019607842,\n",
       "  42.857142857142854,\n",
       "  25.0,\n",
       "  53.65853658536585,\n",
       "  35.82089552238806,\n",
       "  34.0,\n",
       "  45.833333333333336,\n",
       "  31.506849315068493,\n",
       "  35.483870967741936,\n",
       "  50.0,\n",
       "  23.80952380952381,\n",
       "  35.38461538461539,\n",
       "  30.0,\n",
       "  48.717948717948715,\n",
       "  23.333333333333332,\n",
       "  55.0,\n",
       "  36.36363636363637,\n",
       "  51.351351351351354,\n",
       "  26.666666666666668,\n",
       "  28.78787878787879,\n",
       "  36.0655737704918,\n",
       "  42.5,\n",
       "  23.80952380952381,\n",
       "  32.78688524590164,\n",
       "  38.18181818181818,\n",
       "  50.0,\n",
       "  35.13513513513514,\n",
       "  50.0,\n",
       "  38.70967741935484,\n",
       "  52.77777777777778,\n",
       "  33.333333333333336,\n",
       "  27.272727272727273,\n",
       "  36.0655737704918,\n",
       "  40.54054054054054,\n",
       "  24.59016393442623,\n",
       "  28.07017543859649,\n",
       "  37.03703703703704,\n",
       "  54.054054054054056,\n",
       "  23.25581395348837,\n",
       "  56.09756097560975,\n",
       "  38.333333333333336,\n",
       "  54.054054054054056,\n",
       "  38.095238095238095,\n",
       "  32.608695652173914,\n",
       "  37.28813559322034,\n",
       "  20.0,\n",
       "  24.59016393442623],\n",
       " 'Negative Sentiment Percentage': [15.714285714285714,\n",
       "  22.916666666666668,\n",
       "  20.0,\n",
       "  13.157894736842104,\n",
       "  28.0,\n",
       "  17.647058823529413,\n",
       "  22.22222222222222,\n",
       "  14.285714285714286,\n",
       "  18.46153846153846,\n",
       "  9.67741935483871,\n",
       "  19.047619047619047,\n",
       "  25.806451612903224,\n",
       "  16.666666666666668,\n",
       "  28.846153846153847,\n",
       "  11.428571428571429,\n",
       "  3.0303030303030303,\n",
       "  26.829268292682926,\n",
       "  19.402985074626866,\n",
       "  22.0,\n",
       "  20.833333333333332,\n",
       "  17.80821917808219,\n",
       "  9.67741935483871,\n",
       "  25.0,\n",
       "  25.396825396825395,\n",
       "  13.846153846153847,\n",
       "  16.666666666666668,\n",
       "  15.384615384615385,\n",
       "  6.451612903225806,\n",
       "  22.5,\n",
       "  16.666666666666668,\n",
       "  21.62162162162162,\n",
       "  26.666666666666668,\n",
       "  15.151515151515152,\n",
       "  9.836065573770492,\n",
       "  30.0,\n",
       "  25.396825396825395,\n",
       "  27.11864406779661,\n",
       "  20.0,\n",
       "  15.789473684210526,\n",
       "  2.7027027027027026,\n",
       "  34.04255319148936,\n",
       "  14.516129032258064,\n",
       "  22.22222222222222,\n",
       "  23.529411764705884,\n",
       "  20.0,\n",
       "  9.836065573770492,\n",
       "  27.027027027027028,\n",
       "  24.59016393442623,\n",
       "  17.54385964912281,\n",
       "  23.076923076923077,\n",
       "  10.81081081081081,\n",
       "  4.651162790697675,\n",
       "  30.0,\n",
       "  11.666666666666666,\n",
       "  21.62162162162162,\n",
       "  19.047619047619047,\n",
       "  19.565217391304348,\n",
       "  8.474576271186441,\n",
       "  47.5,\n",
       "  26.229508196721312]}"
      ]
     },
     "execution_count": 183,
     "metadata": {},
     "output_type": "execute_result"
    }
   ],
   "source": [
    "presidentialCandidateSentimentTracker"
   ]
  },
  {
   "cell_type": "code",
   "execution_count": 46,
   "metadata": {},
   "outputs": [],
   "source": [
    "pd.set_option('display.max_rows', 500)\n",
    "pd.set_option('display.max_columns', 500)\n",
    "pd.set_option('display.width', 1000)"
   ]
  },
  {
   "cell_type": "code",
   "execution_count": 43,
   "metadata": {},
   "outputs": [],
   "source": [
    "df = pd.DataFrame(presidentialCandidateSentimentTracker)"
   ]
  },
  {
   "cell_type": "code",
   "execution_count": 50,
   "metadata": {},
   "outputs": [
    {
     "data": {
      "text/html": [
       "<div>\n",
       "<style scoped>\n",
       "    .dataframe tbody tr th:only-of-type {\n",
       "        vertical-align: middle;\n",
       "    }\n",
       "\n",
       "    .dataframe tbody tr th {\n",
       "        vertical-align: top;\n",
       "    }\n",
       "\n",
       "    .dataframe thead th {\n",
       "        text-align: right;\n",
       "    }\n",
       "</style>\n",
       "<table border=\"1\" class=\"dataframe\">\n",
       "  <thead>\n",
       "    <tr style=\"text-align: right;\">\n",
       "      <th></th>\n",
       "      <th>name</th>\n",
       "      <th>timestamp</th>\n",
       "      <th>Positive Sentiment Percentage</th>\n",
       "      <th>Negative Sentiment Percentage</th>\n",
       "    </tr>\n",
       "  </thead>\n",
       "  <tbody>\n",
       "    <tr>\n",
       "      <td>7</td>\n",
       "      <td>Kamala Harris</td>\n",
       "      <td>2019-11-20 21:52:41.694149</td>\n",
       "      <td>19.354839</td>\n",
       "      <td>39.682540</td>\n",
       "    </tr>\n",
       "    <tr>\n",
       "      <td>19</td>\n",
       "      <td>Kamala Harris</td>\n",
       "      <td>2019-11-20 22:02:58.688369</td>\n",
       "      <td>24.285714</td>\n",
       "      <td>37.142857</td>\n",
       "    </tr>\n",
       "    <tr>\n",
       "      <td>31</td>\n",
       "      <td>Kamala Harris</td>\n",
       "      <td>2019-11-20 22:13:14.910944</td>\n",
       "      <td>28.125000</td>\n",
       "      <td>31.746032</td>\n",
       "    </tr>\n",
       "    <tr>\n",
       "      <td>43</td>\n",
       "      <td>Kamala Harris</td>\n",
       "      <td>2019-11-20 22:23:31.626915</td>\n",
       "      <td>27.868852</td>\n",
       "      <td>24.590164</td>\n",
       "    </tr>\n",
       "    <tr>\n",
       "      <td>55</td>\n",
       "      <td>Kamala Harris</td>\n",
       "      <td>2019-11-20 22:33:48.244718</td>\n",
       "      <td>39.062500</td>\n",
       "      <td>19.047619</td>\n",
       "    </tr>\n",
       "    <tr>\n",
       "      <td>67</td>\n",
       "      <td>Kamala Harris</td>\n",
       "      <td>2019-11-20 22:44:05.087092</td>\n",
       "      <td>27.777778</td>\n",
       "      <td>20.754717</td>\n",
       "    </tr>\n",
       "  </tbody>\n",
       "</table>\n",
       "</div>"
      ],
      "text/plain": [
       "             name                  timestamp  Positive Sentiment Percentage  Negative Sentiment Percentage\n",
       "7   Kamala Harris 2019-11-20 21:52:41.694149                      19.354839                      39.682540\n",
       "19  Kamala Harris 2019-11-20 22:02:58.688369                      24.285714                      37.142857\n",
       "31  Kamala Harris 2019-11-20 22:13:14.910944                      28.125000                      31.746032\n",
       "43  Kamala Harris 2019-11-20 22:23:31.626915                      27.868852                      24.590164\n",
       "55  Kamala Harris 2019-11-20 22:33:48.244718                      39.062500                      19.047619\n",
       "67  Kamala Harris 2019-11-20 22:44:05.087092                      27.777778                      20.754717"
      ]
     },
     "execution_count": 50,
     "metadata": {},
     "output_type": "execute_result"
    }
   ],
   "source": [
    "df[df['name']=='Kamala Harris']"
   ]
  },
  {
   "cell_type": "code",
   "execution_count": 51,
   "metadata": {},
   "outputs": [
    {
     "data": {
      "text/html": [
       "<div>\n",
       "<style scoped>\n",
       "    .dataframe tbody tr th:only-of-type {\n",
       "        vertical-align: middle;\n",
       "    }\n",
       "\n",
       "    .dataframe tbody tr th {\n",
       "        vertical-align: top;\n",
       "    }\n",
       "\n",
       "    .dataframe thead th {\n",
       "        text-align: right;\n",
       "    }\n",
       "</style>\n",
       "<table border=\"1\" class=\"dataframe\">\n",
       "  <thead>\n",
       "    <tr style=\"text-align: right;\">\n",
       "      <th></th>\n",
       "      <th>name</th>\n",
       "      <th>timestamp</th>\n",
       "      <th>Positive Sentiment Percentage</th>\n",
       "      <th>Negative Sentiment Percentage</th>\n",
       "    </tr>\n",
       "  </thead>\n",
       "  <tbody>\n",
       "    <tr>\n",
       "      <td>4</td>\n",
       "      <td>Pete Buttigieg</td>\n",
       "      <td>2019-11-20 21:52:37.349844</td>\n",
       "      <td>40.000000</td>\n",
       "      <td>33.333333</td>\n",
       "    </tr>\n",
       "    <tr>\n",
       "      <td>16</td>\n",
       "      <td>Pete Buttigieg</td>\n",
       "      <td>2019-11-20 22:02:54.427637</td>\n",
       "      <td>33.823529</td>\n",
       "      <td>23.880597</td>\n",
       "    </tr>\n",
       "    <tr>\n",
       "      <td>28</td>\n",
       "      <td>Pete Buttigieg</td>\n",
       "      <td>2019-11-20 22:13:10.984172</td>\n",
       "      <td>38.983051</td>\n",
       "      <td>23.728814</td>\n",
       "    </tr>\n",
       "    <tr>\n",
       "      <td>40</td>\n",
       "      <td>Pete Buttigieg</td>\n",
       "      <td>2019-11-20 22:23:27.563050</td>\n",
       "      <td>33.783784</td>\n",
       "      <td>21.917808</td>\n",
       "    </tr>\n",
       "    <tr>\n",
       "      <td>52</td>\n",
       "      <td>Pete Buttigieg</td>\n",
       "      <td>2019-11-20 22:33:44.061301</td>\n",
       "      <td>38.983051</td>\n",
       "      <td>26.666667</td>\n",
       "    </tr>\n",
       "    <tr>\n",
       "      <td>64</td>\n",
       "      <td>Pete Buttigieg</td>\n",
       "      <td>2019-11-20 22:44:00.549075</td>\n",
       "      <td>29.850746</td>\n",
       "      <td>28.125000</td>\n",
       "    </tr>\n",
       "  </tbody>\n",
       "</table>\n",
       "</div>"
      ],
      "text/plain": [
       "              name                  timestamp  Positive Sentiment Percentage  Negative Sentiment Percentage\n",
       "4   Pete Buttigieg 2019-11-20 21:52:37.349844                      40.000000                      33.333333\n",
       "16  Pete Buttigieg 2019-11-20 22:02:54.427637                      33.823529                      23.880597\n",
       "28  Pete Buttigieg 2019-11-20 22:13:10.984172                      38.983051                      23.728814\n",
       "40  Pete Buttigieg 2019-11-20 22:23:27.563050                      33.783784                      21.917808\n",
       "52  Pete Buttigieg 2019-11-20 22:33:44.061301                      38.983051                      26.666667\n",
       "64  Pete Buttigieg 2019-11-20 22:44:00.549075                      29.850746                      28.125000"
      ]
     },
     "execution_count": 51,
     "metadata": {},
     "output_type": "execute_result"
    }
   ],
   "source": [
    "df[df['name']=='Pete Buttigieg']"
   ]
  },
  {
   "cell_type": "code",
   "execution_count": 54,
   "metadata": {},
   "outputs": [
    {
     "data": {
      "text/html": [
       "<div>\n",
       "<style scoped>\n",
       "    .dataframe tbody tr th:only-of-type {\n",
       "        vertical-align: middle;\n",
       "    }\n",
       "\n",
       "    .dataframe tbody tr th {\n",
       "        vertical-align: top;\n",
       "    }\n",
       "\n",
       "    .dataframe thead th {\n",
       "        text-align: right;\n",
       "    }\n",
       "</style>\n",
       "<table border=\"1\" class=\"dataframe\">\n",
       "  <thead>\n",
       "    <tr style=\"text-align: right;\">\n",
       "      <th></th>\n",
       "      <th>name</th>\n",
       "      <th>timestamp</th>\n",
       "      <th>Positive Sentiment Percentage</th>\n",
       "      <th>Negative Sentiment Percentage</th>\n",
       "    </tr>\n",
       "  </thead>\n",
       "  <tbody>\n",
       "    <tr>\n",
       "      <td>5</td>\n",
       "      <td>Tulsi Gabbard</td>\n",
       "      <td>2019-11-20 21:52:38.678261</td>\n",
       "      <td>23.333333</td>\n",
       "      <td>18.644068</td>\n",
       "    </tr>\n",
       "    <tr>\n",
       "      <td>17</td>\n",
       "      <td>Tulsi Gabbard</td>\n",
       "      <td>2019-11-20 22:02:55.694670</td>\n",
       "      <td>25.925926</td>\n",
       "      <td>26.250000</td>\n",
       "    </tr>\n",
       "    <tr>\n",
       "      <td>29</td>\n",
       "      <td>Tulsi Gabbard</td>\n",
       "      <td>2019-11-20 22:13:12.317247</td>\n",
       "      <td>40.816327</td>\n",
       "      <td>21.153846</td>\n",
       "    </tr>\n",
       "    <tr>\n",
       "      <td>41</td>\n",
       "      <td>Tulsi Gabbard</td>\n",
       "      <td>2019-11-20 22:23:28.903375</td>\n",
       "      <td>44.067797</td>\n",
       "      <td>17.241379</td>\n",
       "    </tr>\n",
       "    <tr>\n",
       "      <td>53</td>\n",
       "      <td>Tulsi Gabbard</td>\n",
       "      <td>2019-11-20 22:33:45.543108</td>\n",
       "      <td>34.042553</td>\n",
       "      <td>25.531915</td>\n",
       "    </tr>\n",
       "    <tr>\n",
       "      <td>65</td>\n",
       "      <td>Tulsi Gabbard</td>\n",
       "      <td>2019-11-20 22:44:02.052408</td>\n",
       "      <td>36.363636</td>\n",
       "      <td>25.000000</td>\n",
       "    </tr>\n",
       "  </tbody>\n",
       "</table>\n",
       "</div>"
      ],
      "text/plain": [
       "             name                  timestamp  Positive Sentiment Percentage  Negative Sentiment Percentage\n",
       "5   Tulsi Gabbard 2019-11-20 21:52:38.678261                      23.333333                      18.644068\n",
       "17  Tulsi Gabbard 2019-11-20 22:02:55.694670                      25.925926                      26.250000\n",
       "29  Tulsi Gabbard 2019-11-20 22:13:12.317247                      40.816327                      21.153846\n",
       "41  Tulsi Gabbard 2019-11-20 22:23:28.903375                      44.067797                      17.241379\n",
       "53  Tulsi Gabbard 2019-11-20 22:33:45.543108                      34.042553                      25.531915\n",
       "65  Tulsi Gabbard 2019-11-20 22:44:02.052408                      36.363636                      25.000000"
      ]
     },
     "execution_count": 54,
     "metadata": {},
     "output_type": "execute_result"
    }
   ],
   "source": [
    "df[df['name']=='Tulsi Gabbard']"
   ]
  },
  {
   "cell_type": "code",
   "execution_count": null,
   "metadata": {},
   "outputs": [],
   "source": []
  }
 ],
 "metadata": {
  "kernelspec": {
   "display_name": "Python 3",
   "language": "python",
   "name": "python3"
  },
  "language_info": {
   "codemirror_mode": {
    "name": "ipython",
    "version": 3
   },
   "file_extension": ".py",
   "mimetype": "text/x-python",
   "name": "python",
   "nbconvert_exporter": "python",
   "pygments_lexer": "ipython3",
   "version": "3.7.4"
  }
 },
 "nbformat": 4,
 "nbformat_minor": 2
}
